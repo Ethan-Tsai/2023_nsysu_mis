{
 "cells": [
  {
   "cell_type": "code",
   "execution_count": null,
   "id": "81f6a727",
   "metadata": {},
   "outputs": [],
   "source": [
    "# Run below shell before answering question"
   ]
  },
  {
   "cell_type": "code",
   "execution_count": null,
   "id": "062bbd51",
   "metadata": {},
   "outputs": [],
   "source": [
    "# Import related libraries and submodule\n",
    "import pandas as pd\n",
    "import numpy as np\n",
    "from datetime import datetime, timedelta\n",
    "from sklearn.datasets import fetch_openml\n"
   ]
  },
  {
   "cell_type": "code",
   "execution_count": null,
   "id": "c3f90a22",
   "metadata": {},
   "outputs": [],
   "source": [
    "# Import dataset\n",
    "X,y = fetch_openml(\"autos\", version=1, as_frame=True, return_X_y=True)\n",
    "data = X\n",
    "data['target'] = y"
   ]
  },
  {
   "cell_type": "code",
   "execution_count": null,
   "id": "3fcb4817",
   "metadata": {},
   "outputs": [],
   "source": [
    "Q1: Pivot Table\n",
    "    1a. print the data\n",
    "    1b. create a pivot table using index='num-of-doors', column='fuel-type', and values as price\n",
    "    1c. round off the values of question 1b output to two decimal places\n",
    "    1d. create a pivot table using index=['num-of-doors','body-style'], \n",
    "       column=['fuel-type' , 'fuel-system'], and values as price\n",
    "    1e. fill NaN values by zero in the output of question 1d. \n",
    "        hint: use fill_value as the parameter\n"
   ]
  },
  {
   "cell_type": "code",
   "execution_count": null,
   "id": "cc204385",
   "metadata": {},
   "outputs": [],
   "source": [
    "Q2: Pivot table with aggfunc argument\n",
    "    2a. create a pivot table using index = 'body-style' , columns = 'num-of-doors', values = 'price'.\n",
    "        calculate mean and median using aggfunc argument\n",
    "    2b. fill NaN values by zero in the output of question 2a\n",
    "    2c. create a pivot table using values=['price', 'horsepower'], and index= 'make'\n",
    "    2d. fill NaN values by zero in the output of question 2c and round off the result to two decimal places \n",
    "    2e. ordered the car make by price from high to low value"
   ]
  },
  {
   "cell_type": "code",
   "execution_count": null,
   "id": "f915816d",
   "metadata": {},
   "outputs": [],
   "source": [
    "Q3: Time-series \n",
    "    3a. create arbitrary date using python's built-in submodule datetime\n",
    "    3b. create arbitrary date and timw using python's built-in submodule datetime\n",
    "    3c. create current date using python's built-in submodule datetime\n",
    "    3d. create yesterday date using python's built-in submodule datetime and timedelta\n",
    "    3d. create yesterday date using python's built-in submodule datetime and timedelta\n",
    "    3e. extract the year from the result of Q3d"
   ]
  },
  {
   "cell_type": "code",
   "execution_count": null,
   "id": "00fef476",
   "metadata": {},
   "outputs": [],
   "source": [
    "Q4: Date_range\n",
    "    4a. create a date_range for one week by using start and end parameters\n",
    "    4b. create a date_range for 18-week long using weekly frequency\n",
    "    4c. print min and max dates of Q4b"
   ]
  },
  {
   "cell_type": "code",
   "execution_count": null,
   "id": "b0adad69",
   "metadata": {},
   "outputs": [],
   "source": [
    "# 1a. print the data\n"
   ]
  },
  {
   "cell_type": "code",
   "execution_count": null,
   "id": "d06c68ac",
   "metadata": {},
   "outputs": [],
   "source": [
    "# 1b. create a pivot table using index='num-of-doors', column='fuel-type', and values as price\n"
   ]
  },
  {
   "cell_type": "code",
   "execution_count": null,
   "id": "0ef35eca",
   "metadata": {},
   "outputs": [],
   "source": [
    "# Q1c. Round off the values of question 1b output to two decimal places\n",
    "\n"
   ]
  },
  {
   "cell_type": "code",
   "execution_count": null,
   "id": "9236e64c",
   "metadata": {},
   "outputs": [],
   "source": [
    "# Q1d. \n",
    "'''\n",
    "Create a pivot table using multi-level indexing index=['num-of-doors','body-style'], \n",
    "and multi-level columns column=['fuel-type' , 'fuel-system'], and values = 'price'\n",
    "'''"
   ]
  },
  {
   "cell_type": "code",
   "execution_count": null,
   "id": "ad23bef7",
   "metadata": {},
   "outputs": [],
   "source": []
  },
  {
   "cell_type": "code",
   "execution_count": null,
   "id": "6f125797",
   "metadata": {},
   "outputs": [],
   "source": [
    "# 1e. fill NaN values by zero in the output of question 1d.\n",
    "# hint use fill_value as the parameter\n",
    "\n"
   ]
  },
  {
   "cell_type": "code",
   "execution_count": null,
   "id": "ab8fa793",
   "metadata": {},
   "outputs": [],
   "source": [
    "# 2a. create a pivot table using index = 'body-style' , columns = 'num-of-doors', values = 'price'.\n",
    "#calculate mean and median using aggfunc argument\n",
    "\n"
   ]
  },
  {
   "cell_type": "code",
   "execution_count": null,
   "id": "a3a65660",
   "metadata": {},
   "outputs": [],
   "source": [
    "# 2b. fill NaN values by zero in the output of question 2a\n",
    "\n"
   ]
  },
  {
   "cell_type": "code",
   "execution_count": null,
   "id": "33d97640",
   "metadata": {},
   "outputs": [],
   "source": [
    "# 2c. create a pivot table using values=['price', 'horsepower'], and index= 'make'\n",
    "\n"
   ]
  },
  {
   "cell_type": "code",
   "execution_count": null,
   "id": "e41c0856",
   "metadata": {},
   "outputs": [],
   "source": [
    "# 2d. fill NaN values by zero in the output of question 2c and round off the result to two decimal places \n",
    "\n"
   ]
  },
  {
   "cell_type": "code",
   "execution_count": null,
   "id": "ce626845",
   "metadata": {},
   "outputs": [],
   "source": [
    "# 2 e. ordered the car make by price from high to low value\n"
   ]
  },
  {
   "cell_type": "code",
   "execution_count": null,
   "id": "e798da02",
   "metadata": {},
   "outputs": [],
   "source": [
    "# Q3a. create arbitrary date using python's inbuild submodule datetime\n",
    "\n",
    "# Arbitrary date\n",
    "\n"
   ]
  },
  {
   "cell_type": "code",
   "execution_count": null,
   "id": "87fb2068",
   "metadata": {},
   "outputs": [],
   "source": [
    "# Q3b. create arbitrary date and timw using python's inbuild submodule datetime\n",
    "\n",
    "# Arbitary date and time\n",
    "\n"
   ]
  },
  {
   "cell_type": "code",
   "execution_count": null,
   "id": "4b369637",
   "metadata": {},
   "outputs": [],
   "source": [
    "# Q3c. create current date using python's inbuild submodule datetime\n",
    "\n",
    "# Now\n"
   ]
  },
  {
   "cell_type": "code",
   "execution_count": null,
   "id": "558c66c9",
   "metadata": {},
   "outputs": [],
   "source": [
    "# Q3d. create yesterday date using python's inbuild submodule datetime and timedelta\n",
    "\n",
    "# Yesterday\n"
   ]
  },
  {
   "cell_type": "code",
   "execution_count": null,
   "id": "0f684049",
   "metadata": {},
   "outputs": [],
   "source": [
    "# Q3e. extract the year from the result of Q3d\n"
   ]
  },
  {
   "cell_type": "code",
   "execution_count": null,
   "id": "3811f8c0",
   "metadata": {},
   "outputs": [],
   "source": [
    "# Q4a. create a date_range for one week by using start and end parameters\n",
    "\n"
   ]
  },
  {
   "cell_type": "code",
   "execution_count": null,
   "id": "0abb7119",
   "metadata": {},
   "outputs": [],
   "source": [
    "# Q4b. create a date_range for 18-week long using weekly frequency\n"
   ]
  },
  {
   "cell_type": "code",
   "execution_count": null,
   "id": "7098adad",
   "metadata": {},
   "outputs": [],
   "source": [
    "# Q4c. print min and max dates of Q4b\n",
    "\n"
   ]
  },
  {
   "cell_type": "code",
   "execution_count": null,
   "id": "2efdf471",
   "metadata": {},
   "outputs": [],
   "source": []
  }
 ],
 "metadata": {
  "kernelspec": {
   "display_name": "Python 3 (ipykernel)",
   "language": "python",
   "name": "python3"
  },
  "language_info": {
   "codemirror_mode": {
    "name": "ipython",
    "version": 3
   },
   "file_extension": ".py",
   "mimetype": "text/x-python",
   "name": "python",
   "nbconvert_exporter": "python",
   "pygments_lexer": "ipython3",
   "version": "3.9.12"
  },
  "toc": {
   "base_numbering": 1,
   "nav_menu": {},
   "number_sections": true,
   "sideBar": true,
   "skip_h1_title": false,
   "title_cell": "Table of Contents",
   "title_sidebar": "Contents",
   "toc_cell": false,
   "toc_position": {},
   "toc_section_display": true,
   "toc_window_display": false
  }
 },
 "nbformat": 4,
 "nbformat_minor": 5
}
