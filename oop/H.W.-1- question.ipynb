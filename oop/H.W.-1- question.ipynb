{
 "cells": [
  {
   "cell_type": "markdown",
   "id": "8ee487e6",
   "metadata": {},
   "source": [
    "# NumPy Arrays"
   ]
  },
  {
   "cell_type": "code",
   "execution_count": 122,
   "id": "784e7153",
   "metadata": {},
   "outputs": [],
   "source": [
    "import numpy as np"
   ]
  },
  {
   "cell_type": "markdown",
   "id": "a297be94",
   "metadata": {},
   "source": [
    "## **Q1- Create one dimensional array using python list**\n",
    "- Data type needs to be float64 \n",
    "- Print dtype, shape, size, dimension, and memory consumption of each element and total array"
   ]
  },
  {
   "cell_type": "code",
   "execution_count": null,
   "id": "b025a31a",
   "metadata": {},
   "outputs": [],
   "source": [
    "#create"
   ]
  },
  {
   "cell_type": "code",
   "execution_count": 20,
   "id": "d0b78075",
   "metadata": {},
   "outputs": [
    {
     "name": "stdout",
     "output_type": "stream",
     "text": [
      "Data type =  float64\n",
      "Shape =  (5,)\n",
      "Size =  5\n",
      "Dimension =  1\n",
      "Each element memory size =  8\n",
      "Total array memory size =  40\n"
     ]
    }
   ],
   "source": [
    "# print"
   ]
  },
  {
   "cell_type": "markdown",
   "id": "82d699e6",
   "metadata": {},
   "source": [
    "## **Q2- Create two dimensional array using python list**\n",
    "- Print dtype, shape, size, dimension, and memory consumption of each element and total array"
   ]
  },
  {
   "cell_type": "code",
   "execution_count": null,
   "id": "c001cdb7",
   "metadata": {},
   "outputs": [],
   "source": [
    "#create"
   ]
  },
  {
   "cell_type": "code",
   "execution_count": 19,
   "id": "aede4f26",
   "metadata": {},
   "outputs": [
    {
     "name": "stdout",
     "output_type": "stream",
     "text": [
      "Data type =  int64\n",
      "Shape =  (2, 4)\n",
      "Size =  8\n",
      "Dimension =  2\n",
      "Each element memory size =  8\n",
      "Total array memory size =  64\n"
     ]
    }
   ],
   "source": [
    "#print"
   ]
  },
  {
   "cell_type": "markdown",
   "id": "969e71b4",
   "metadata": {},
   "source": [
    "## **Q3- Create a length of 10 integer array filled with zeros**"
   ]
  },
  {
   "cell_type": "code",
   "execution_count": 24,
   "id": "acb15aba",
   "metadata": {},
   "outputs": [
    {
     "data": {
      "text/plain": [
       "array([0, 0, 0, 0, 0, 0, 0, 0, 0, 0])"
      ]
     },
     "execution_count": 24,
     "metadata": {},
     "output_type": "execute_result"
    }
   ],
   "source": []
  },
  {
   "cell_type": "markdown",
   "id": "6b423b6d",
   "metadata": {},
   "source": [
    "## **Q4- Create a 4X5 floating point array filled with 1s**"
   ]
  },
  {
   "cell_type": "code",
   "execution_count": 26,
   "id": "3996c95b",
   "metadata": {},
   "outputs": [
    {
     "data": {
      "text/plain": [
       "array([[1., 1., 1., 1., 1.],\n",
       "       [1., 1., 1., 1., 1.],\n",
       "       [1., 1., 1., 1., 1.],\n",
       "       [1., 1., 1., 1., 1.]])"
      ]
     },
     "execution_count": 26,
     "metadata": {},
     "output_type": "execute_result"
    }
   ],
   "source": []
  },
  {
   "cell_type": "markdown",
   "id": "04bc7123",
   "metadata": {},
   "source": [
    "## **Q5- Create a 3x3 identity matrix**\n",
    "- Data type: int"
   ]
  },
  {
   "cell_type": "code",
   "execution_count": 31,
   "id": "8c79ec31",
   "metadata": {},
   "outputs": [
    {
     "data": {
      "text/plain": [
       "array([[1, 0, 0],\n",
       "       [0, 1, 0],\n",
       "       [0, 0, 1]])"
      ]
     },
     "execution_count": 31,
     "metadata": {},
     "output_type": "execute_result"
    }
   ],
   "source": []
  },
  {
   "cell_type": "markdown",
   "id": "b4b96321",
   "metadata": {},
   "source": [
    "## **Q6- Create a one dimensional array of length 10**\n",
    "- Use numpy function arange to create the array\n",
    "- Assign new value (12) at the index of 5,6,7"
   ]
  },
  {
   "cell_type": "code",
   "execution_count": null,
   "id": "bdf42ebf",
   "metadata": {},
   "outputs": [],
   "source": [
    "#create"
   ]
  },
  {
   "cell_type": "code",
   "execution_count": 37,
   "id": "e52f8add",
   "metadata": {},
   "outputs": [
    {
     "data": {
      "text/plain": [
       "array([ 0,  1,  2,  3,  4, 12, 12, 12,  8,  9])"
      ]
     },
     "execution_count": 37,
     "metadata": {},
     "output_type": "execute_result"
    }
   ],
   "source": [
    "#asign"
   ]
  },
  {
   "cell_type": "markdown",
   "id": "b000e17a",
   "metadata": {},
   "source": [
    "## **Q7- Create a 3x3 array**\n",
    "- a. Use numpy function arange and reshape() to create the array\n",
    "- b. Select the first two rows of array\n",
    "- c. Select the second row but only the first two columns \n",
    "- d. Select the third column but only the first two rows\n",
    "- e. Select the first column only\n",
    "- f. Assign the new value 15 to the last element of third row and third column and print the array"
   ]
  },
  {
   "cell_type": "code",
   "execution_count": 58,
   "id": "789ee028",
   "metadata": {},
   "outputs": [],
   "source": [
    "# a.\n",
    "# code"
   ]
  },
  {
   "cell_type": "code",
   "execution_count": 59,
   "id": "262bb74b",
   "metadata": {},
   "outputs": [
    {
     "data": {
      "text/plain": [
       "array([[1, 2, 3],\n",
       "       [4, 5, 6],\n",
       "       [7, 8, 9]])"
      ]
     },
     "execution_count": 59,
     "metadata": {},
     "output_type": "execute_result"
    }
   ],
   "source": [
    "#print"
   ]
  },
  {
   "cell_type": "code",
   "execution_count": 61,
   "id": "45600369",
   "metadata": {},
   "outputs": [
    {
     "data": {
      "text/plain": [
       "array([[1, 2, 3],\n",
       "       [4, 5, 6],\n",
       "       [7, 8, 9]])"
      ]
     },
     "execution_count": 61,
     "metadata": {},
     "output_type": "execute_result"
    }
   ],
   "source": [
    "arr3"
   ]
  },
  {
   "cell_type": "code",
   "execution_count": 62,
   "id": "8382c9d2",
   "metadata": {},
   "outputs": [
    {
     "data": {
      "text/plain": [
       "array([[1, 2, 3],\n",
       "       [4, 5, 6]])"
      ]
     },
     "execution_count": 62,
     "metadata": {},
     "output_type": "execute_result"
    }
   ],
   "source": [
    "# b.\n"
   ]
  },
  {
   "cell_type": "code",
   "execution_count": 63,
   "id": "88e07ba0",
   "metadata": {},
   "outputs": [
    {
     "data": {
      "text/plain": [
       "array([4, 5])"
      ]
     },
     "execution_count": 63,
     "metadata": {},
     "output_type": "execute_result"
    }
   ],
   "source": [
    "# c.\n"
   ]
  },
  {
   "cell_type": "code",
   "execution_count": 64,
   "id": "430ceb9c",
   "metadata": {},
   "outputs": [
    {
     "data": {
      "text/plain": [
       "array([3, 6])"
      ]
     },
     "execution_count": 64,
     "metadata": {},
     "output_type": "execute_result"
    }
   ],
   "source": [
    "# d.\n"
   ]
  },
  {
   "cell_type": "code",
   "execution_count": 65,
   "id": "f3786f9a",
   "metadata": {},
   "outputs": [
    {
     "data": {
      "text/plain": [
       "array([[1],\n",
       "       [4],\n",
       "       [7]])"
      ]
     },
     "execution_count": 65,
     "metadata": {},
     "output_type": "execute_result"
    }
   ],
   "source": [
    "# e.\n"
   ]
  },
  {
   "cell_type": "code",
   "execution_count": 66,
   "id": "bb288591",
   "metadata": {},
   "outputs": [],
   "source": [
    "# f.\n"
   ]
  },
  {
   "cell_type": "code",
   "execution_count": 67,
   "id": "2afe4e2d",
   "metadata": {},
   "outputs": [
    {
     "data": {
      "text/plain": [
       "array([[ 1,  2,  3],\n",
       "       [ 4,  5,  6],\n",
       "       [ 7,  8, 15]])"
      ]
     },
     "execution_count": 67,
     "metadata": {},
     "output_type": "execute_result"
    }
   ],
   "source": [
    "arr3"
   ]
  },
  {
   "cell_type": "markdown",
   "id": "6d792bfa",
   "metadata": {},
   "source": [
    "## **Q8- Create two arrays of 3x1 and 3x3 shape**\n",
    "- Join both the arrays horizontally and store the result in variable concat\n",
    "- Split the concat array into 2x3 and 1x3 shape"
   ]
  },
  {
   "cell_type": "code",
   "execution_count": 91,
   "id": "c7985a41",
   "metadata": {},
   "outputs": [],
   "source": [
    "#code"
   ]
  },
  {
   "cell_type": "code",
   "execution_count": 92,
   "id": "ec0ee2a8",
   "metadata": {},
   "outputs": [
    {
     "data": {
      "text/plain": [
       "array([[97],\n",
       "       [98],\n",
       "       [99]])"
      ]
     },
     "execution_count": 92,
     "metadata": {},
     "output_type": "execute_result"
    }
   ],
   "source": [
    "#print"
   ]
  },
  {
   "cell_type": "code",
   "execution_count": 93,
   "id": "ad0fa454",
   "metadata": {},
   "outputs": [],
   "source": [
    "#code"
   ]
  },
  {
   "cell_type": "code",
   "execution_count": 94,
   "id": "17e66098",
   "metadata": {},
   "outputs": [
    {
     "data": {
      "text/plain": [
       "array([[1, 2, 3],\n",
       "       [4, 5, 6],\n",
       "       [7, 8, 9]])"
      ]
     },
     "execution_count": 94,
     "metadata": {},
     "output_type": "execute_result"
    }
   ],
   "source": [
    "#print"
   ]
  },
  {
   "cell_type": "code",
   "execution_count": 95,
   "id": "fff8084e",
   "metadata": {},
   "outputs": [],
   "source": [
    "#code"
   ]
  },
  {
   "cell_type": "code",
   "execution_count": 96,
   "id": "0f621d2d",
   "metadata": {},
   "outputs": [
    {
     "data": {
      "text/plain": [
       "array([[97,  1,  2,  3],\n",
       "       [98,  4,  5,  6],\n",
       "       [99,  7,  8,  9]])"
      ]
     },
     "execution_count": 96,
     "metadata": {},
     "output_type": "execute_result"
    }
   ],
   "source": [
    "#print"
   ]
  },
  {
   "cell_type": "code",
   "execution_count": 111,
   "id": "5d1d8f2f",
   "metadata": {},
   "outputs": [
    {
     "data": {
      "text/plain": [
       "[array([[97,  1,  2,  3],\n",
       "        [98,  4,  5,  6]]),\n",
       " array([[99,  7,  8,  9]])]"
      ]
     },
     "execution_count": 111,
     "metadata": {},
     "output_type": "execute_result"
    }
   ],
   "source": []
  },
  {
   "cell_type": "code",
   "execution_count": 112,
   "id": "379a674b",
   "metadata": {},
   "outputs": [
    {
     "data": {
      "text/plain": [
       "[array([[97,  1],\n",
       "        [98,  4],\n",
       "        [99,  7]]),\n",
       " array([[2, 3],\n",
       "        [5, 6],\n",
       "        [8, 9]])]"
      ]
     },
     "execution_count": 112,
     "metadata": {},
     "output_type": "execute_result"
    }
   ],
   "source": []
  },
  {
   "cell_type": "code",
   "execution_count": 114,
   "id": "79c113fe",
   "metadata": {},
   "outputs": [
    {
     "data": {
      "text/plain": [
       "[array([[97,  1,  2],\n",
       "        [98,  4,  5],\n",
       "        [99,  7,  8]]),\n",
       " array([[3],\n",
       "        [6],\n",
       "        [9]])]"
      ]
     },
     "execution_count": 114,
     "metadata": {},
     "output_type": "execute_result"
    }
   ],
   "source": []
  }
 ],
 "metadata": {
  "kernelspec": {
   "display_name": "Python 3 (ipykernel)",
   "language": "python",
   "name": "python3"
  },
  "language_info": {
   "codemirror_mode": {
    "name": "ipython",
    "version": 3
   },
   "file_extension": ".py",
   "mimetype": "text/x-python",
   "name": "python",
   "nbconvert_exporter": "python",
   "pygments_lexer": "ipython3",
   "version": "3.9.12"
  },
  "toc": {
   "base_numbering": 1,
   "nav_menu": {},
   "number_sections": true,
   "sideBar": true,
   "skip_h1_title": false,
   "title_cell": "Table of Contents",
   "title_sidebar": "Contents",
   "toc_cell": false,
   "toc_position": {},
   "toc_section_display": true,
   "toc_window_display": true
  },
  "vscode": {
   "interpreter": {
    "hash": "23b4a3e8622309bcc6db3d5cc6eb73d60ab98d9ec23bad6a26b709981ccb403a"
   }
  }
 },
 "nbformat": 4,
 "nbformat_minor": 5
}
