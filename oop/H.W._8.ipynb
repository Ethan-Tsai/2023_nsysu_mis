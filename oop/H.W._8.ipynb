{
 "cells": [
  {
   "cell_type": "code",
   "execution_count": 1,
   "id": "8d3115c5",
   "metadata": {},
   "outputs": [],
   "source": [
    "# import relate packages\n",
    "import numpy as np\n",
    "import pandas as pd\n",
    "import matplotlib.pyplot as plt\n",
    "from sklearn import datasets\n",
    "import seaborn as sns\n",
    "\n",
    "import warnings\n",
    "warnings.filterwarnings('ignore')"
   ]
  },
  {
   "cell_type": "code",
   "execution_count": 2,
   "id": "bcafd468",
   "metadata": {},
   "outputs": [],
   "source": [
    "# run before starting to answer\n",
    "Boston = datasets.load_boston()\n",
    "boston = np.concatenate((Boston['data'],Boston['target'].reshape(506,1)),axis=1)\n",
    "boston = pd.DataFrame(boston, columns= ['CRIM', 'ZN', 'INDUS', 'CHAS', 'NOX', 'RM', 'AGE', 'DIS', \n",
    "                                     'RAD', 'TAX', 'PTRATIO', 'B', 'LSTAT', 'MEDV'])"
   ]
  },
  {
   "cell_type": "markdown",
   "id": "22d55ff7",
   "metadata": {},
   "source": [
    "- Ques-1: Overview of the data\n",
    "    - a. print the number of samples in the boston data\n",
    "    - b. print the number of features in the boston data\n",
    "    - c. view first 5 rows of the boston data"
   ]
  },
  {
   "cell_type": "code",
   "execution_count": 3,
   "id": "03e5822a",
   "metadata": {},
   "outputs": [
    {
     "name": "stdout",
     "output_type": "stream",
     "text": [
      "(506, 14)\n",
      "The number of samples in the boston data is 506\n"
     ]
    }
   ],
   "source": [
    "# 1-a\n",
    "\n",
    "print(boston.shape)\n",
    "print('The number of samples in the boston data is 506')"
   ]
  },
  {
   "cell_type": "code",
   "execution_count": 4,
   "id": "ab69c619",
   "metadata": {},
   "outputs": [
    {
     "name": "stdout",
     "output_type": "stream",
     "text": [
      "CRIM       1\n",
      "ZN         1\n",
      "INDUS      1\n",
      "CHAS       1\n",
      "NOX        1\n",
      "RM         1\n",
      "AGE        1\n",
      "DIS        1\n",
      "RAD        1\n",
      "TAX        1\n",
      "PTRATIO    1\n",
      "B          1\n",
      "LSTAT      1\n",
      "MEDV       1\n",
      "dtype: int64\n",
      "====================\n",
      "(506, 14)\n",
      "====================\n",
      "The number of features in the boston data is 14\n"
     ]
    }
   ],
   "source": [
    "# 1-b\n",
    "\n",
    "print(boston.keys().value_counts())\n",
    "print(\"=\" * 20)\n",
    "print(boston.shape)\n",
    "print(\"=\" * 20)\n",
    "print('The number of features in the boston data is 14')\n"
   ]
  },
  {
   "cell_type": "code",
   "execution_count": 5,
   "id": "65f456d9",
   "metadata": {},
   "outputs": [
    {
     "data": {
      "text/html": [
       "<div>\n",
       "<style scoped>\n",
       "    .dataframe tbody tr th:only-of-type {\n",
       "        vertical-align: middle;\n",
       "    }\n",
       "\n",
       "    .dataframe tbody tr th {\n",
       "        vertical-align: top;\n",
       "    }\n",
       "\n",
       "    .dataframe thead th {\n",
       "        text-align: right;\n",
       "    }\n",
       "</style>\n",
       "<table border=\"1\" class=\"dataframe\">\n",
       "  <thead>\n",
       "    <tr style=\"text-align: right;\">\n",
       "      <th></th>\n",
       "      <th>CRIM</th>\n",
       "      <th>ZN</th>\n",
       "      <th>INDUS</th>\n",
       "      <th>CHAS</th>\n",
       "      <th>NOX</th>\n",
       "      <th>RM</th>\n",
       "      <th>AGE</th>\n",
       "      <th>DIS</th>\n",
       "      <th>RAD</th>\n",
       "      <th>TAX</th>\n",
       "      <th>PTRATIO</th>\n",
       "      <th>B</th>\n",
       "      <th>LSTAT</th>\n",
       "      <th>MEDV</th>\n",
       "    </tr>\n",
       "  </thead>\n",
       "  <tbody>\n",
       "    <tr>\n",
       "      <th>0</th>\n",
       "      <td>0.00632</td>\n",
       "      <td>18.0</td>\n",
       "      <td>2.31</td>\n",
       "      <td>0.0</td>\n",
       "      <td>0.538</td>\n",
       "      <td>6.575</td>\n",
       "      <td>65.2</td>\n",
       "      <td>4.0900</td>\n",
       "      <td>1.0</td>\n",
       "      <td>296.0</td>\n",
       "      <td>15.3</td>\n",
       "      <td>396.90</td>\n",
       "      <td>4.98</td>\n",
       "      <td>24.0</td>\n",
       "    </tr>\n",
       "    <tr>\n",
       "      <th>1</th>\n",
       "      <td>0.02731</td>\n",
       "      <td>0.0</td>\n",
       "      <td>7.07</td>\n",
       "      <td>0.0</td>\n",
       "      <td>0.469</td>\n",
       "      <td>6.421</td>\n",
       "      <td>78.9</td>\n",
       "      <td>4.9671</td>\n",
       "      <td>2.0</td>\n",
       "      <td>242.0</td>\n",
       "      <td>17.8</td>\n",
       "      <td>396.90</td>\n",
       "      <td>9.14</td>\n",
       "      <td>21.6</td>\n",
       "    </tr>\n",
       "    <tr>\n",
       "      <th>2</th>\n",
       "      <td>0.02729</td>\n",
       "      <td>0.0</td>\n",
       "      <td>7.07</td>\n",
       "      <td>0.0</td>\n",
       "      <td>0.469</td>\n",
       "      <td>7.185</td>\n",
       "      <td>61.1</td>\n",
       "      <td>4.9671</td>\n",
       "      <td>2.0</td>\n",
       "      <td>242.0</td>\n",
       "      <td>17.8</td>\n",
       "      <td>392.83</td>\n",
       "      <td>4.03</td>\n",
       "      <td>34.7</td>\n",
       "    </tr>\n",
       "    <tr>\n",
       "      <th>3</th>\n",
       "      <td>0.03237</td>\n",
       "      <td>0.0</td>\n",
       "      <td>2.18</td>\n",
       "      <td>0.0</td>\n",
       "      <td>0.458</td>\n",
       "      <td>6.998</td>\n",
       "      <td>45.8</td>\n",
       "      <td>6.0622</td>\n",
       "      <td>3.0</td>\n",
       "      <td>222.0</td>\n",
       "      <td>18.7</td>\n",
       "      <td>394.63</td>\n",
       "      <td>2.94</td>\n",
       "      <td>33.4</td>\n",
       "    </tr>\n",
       "    <tr>\n",
       "      <th>4</th>\n",
       "      <td>0.06905</td>\n",
       "      <td>0.0</td>\n",
       "      <td>2.18</td>\n",
       "      <td>0.0</td>\n",
       "      <td>0.458</td>\n",
       "      <td>7.147</td>\n",
       "      <td>54.2</td>\n",
       "      <td>6.0622</td>\n",
       "      <td>3.0</td>\n",
       "      <td>222.0</td>\n",
       "      <td>18.7</td>\n",
       "      <td>396.90</td>\n",
       "      <td>5.33</td>\n",
       "      <td>36.2</td>\n",
       "    </tr>\n",
       "  </tbody>\n",
       "</table>\n",
       "</div>"
      ],
      "text/plain": [
       "      CRIM    ZN  INDUS  CHAS    NOX     RM   AGE     DIS  RAD    TAX  \\\n",
       "0  0.00632  18.0   2.31   0.0  0.538  6.575  65.2  4.0900  1.0  296.0   \n",
       "1  0.02731   0.0   7.07   0.0  0.469  6.421  78.9  4.9671  2.0  242.0   \n",
       "2  0.02729   0.0   7.07   0.0  0.469  7.185  61.1  4.9671  2.0  242.0   \n",
       "3  0.03237   0.0   2.18   0.0  0.458  6.998  45.8  6.0622  3.0  222.0   \n",
       "4  0.06905   0.0   2.18   0.0  0.458  7.147  54.2  6.0622  3.0  222.0   \n",
       "\n",
       "   PTRATIO       B  LSTAT  MEDV  \n",
       "0     15.3  396.90   4.98  24.0  \n",
       "1     17.8  396.90   9.14  21.6  \n",
       "2     17.8  392.83   4.03  34.7  \n",
       "3     18.7  394.63   2.94  33.4  \n",
       "4     18.7  396.90   5.33  36.2  "
      ]
     },
     "execution_count": 5,
     "metadata": {},
     "output_type": "execute_result"
    }
   ],
   "source": [
    "# 1-c\n",
    "\n",
    "boston.head()"
   ]
  },
  {
   "cell_type": "markdown",
   "id": "da3fcf17",
   "metadata": {},
   "source": [
    "- Ques 2: Features matrix and target array\n",
    "    - a. separate the boston data into X and y (hint y= MEDV)\n",
    "    - b. the shape of X\n",
    "    - c. the shape of y\n",
    "    - d. print X and y"
   ]
  },
  {
   "cell_type": "code",
   "execution_count": 1,
   "id": "1c11c0bf",
   "metadata": {},
   "outputs": [
    {
     "ename": "NameError",
     "evalue": "name 'boston' is not defined",
     "output_type": "error",
     "traceback": [
      "\u001b[1;31m---------------------------------------------------------------------------\u001b[0m",
      "\u001b[1;31mNameError\u001b[0m                                 Traceback (most recent call last)",
      "\u001b[1;32m~\\AppData\\Local\\Temp\\ipykernel_24956\\666857492.py\u001b[0m in \u001b[0;36m<module>\u001b[1;34m\u001b[0m\n\u001b[0;32m      1\u001b[0m \u001b[1;31m# 2-a\u001b[0m\u001b[1;33m\u001b[0m\u001b[1;33m\u001b[0m\u001b[0m\n\u001b[0;32m      2\u001b[0m \u001b[1;33m\u001b[0m\u001b[0m\n\u001b[1;32m----> 3\u001b[1;33m \u001b[0mprint\u001b[0m\u001b[1;33m(\u001b[0m\u001b[0mboston\u001b[0m\u001b[1;33m.\u001b[0m\u001b[0mshape\u001b[0m\u001b[1;33m)\u001b[0m\u001b[1;33m\u001b[0m\u001b[1;33m\u001b[0m\u001b[0m\n\u001b[0m",
      "\u001b[1;31mNameError\u001b[0m: name 'boston' is not defined"
     ]
    }
   ],
   "source": [
    "# 2-a\n",
    "\n",
    "X = boston.drop('MEDV', axis = 1)\n",
    "y = boston['MEDV']"
   ]
  },
  {
   "cell_type": "code",
   "execution_count": 7,
   "id": "5518d18d",
   "metadata": {
    "scrolled": true
   },
   "outputs": [
    {
     "data": {
      "text/plain": [
       "(506, 13)"
      ]
     },
     "execution_count": 7,
     "metadata": {},
     "output_type": "execute_result"
    }
   ],
   "source": [
    "# 2-b\n",
    "X.shape"
   ]
  },
  {
   "cell_type": "code",
   "execution_count": 8,
   "id": "a92dd69f",
   "metadata": {},
   "outputs": [
    {
     "data": {
      "text/plain": [
       "(506,)"
      ]
     },
     "execution_count": 8,
     "metadata": {},
     "output_type": "execute_result"
    }
   ],
   "source": [
    "# 2-c\n",
    "y.shape"
   ]
  },
  {
   "cell_type": "code",
   "execution_count": 9,
   "id": "b1c72b92",
   "metadata": {},
   "outputs": [
    {
     "name": "stdout",
     "output_type": "stream",
     "text": [
      "        CRIM    ZN  INDUS  CHAS    NOX     RM   AGE     DIS  RAD    TAX  \\\n",
      "0    0.00632  18.0   2.31   0.0  0.538  6.575  65.2  4.0900  1.0  296.0   \n",
      "1    0.02731   0.0   7.07   0.0  0.469  6.421  78.9  4.9671  2.0  242.0   \n",
      "2    0.02729   0.0   7.07   0.0  0.469  7.185  61.1  4.9671  2.0  242.0   \n",
      "3    0.03237   0.0   2.18   0.0  0.458  6.998  45.8  6.0622  3.0  222.0   \n",
      "4    0.06905   0.0   2.18   0.0  0.458  7.147  54.2  6.0622  3.0  222.0   \n",
      "..       ...   ...    ...   ...    ...    ...   ...     ...  ...    ...   \n",
      "501  0.06263   0.0  11.93   0.0  0.573  6.593  69.1  2.4786  1.0  273.0   \n",
      "502  0.04527   0.0  11.93   0.0  0.573  6.120  76.7  2.2875  1.0  273.0   \n",
      "503  0.06076   0.0  11.93   0.0  0.573  6.976  91.0  2.1675  1.0  273.0   \n",
      "504  0.10959   0.0  11.93   0.0  0.573  6.794  89.3  2.3889  1.0  273.0   \n",
      "505  0.04741   0.0  11.93   0.0  0.573  6.030  80.8  2.5050  1.0  273.0   \n",
      "\n",
      "     PTRATIO       B  LSTAT  \n",
      "0       15.3  396.90   4.98  \n",
      "1       17.8  396.90   9.14  \n",
      "2       17.8  392.83   4.03  \n",
      "3       18.7  394.63   2.94  \n",
      "4       18.7  396.90   5.33  \n",
      "..       ...     ...    ...  \n",
      "501     21.0  391.99   9.67  \n",
      "502     21.0  396.90   9.08  \n",
      "503     21.0  396.90   5.64  \n",
      "504     21.0  393.45   6.48  \n",
      "505     21.0  396.90   7.88  \n",
      "\n",
      "[506 rows x 13 columns]\n",
      "================================================================================\n",
      "0      24.0\n",
      "1      21.6\n",
      "2      34.7\n",
      "3      33.4\n",
      "4      36.2\n",
      "       ... \n",
      "501    22.4\n",
      "502    20.6\n",
      "503    23.9\n",
      "504    22.0\n",
      "505    11.9\n",
      "Name: MEDV, Length: 506, dtype: float64\n"
     ]
    }
   ],
   "source": [
    "# 2-d\n",
    "print(X)\n",
    "print('=' * 80)\n",
    "print(y)"
   ]
  },
  {
   "cell_type": "markdown",
   "id": "959e0945",
   "metadata": {},
   "source": [
    "- Ques 3: Linear regression\n",
    "    - a. import the linear regression class\n",
    "    - b. fit the boston data with a linear regression using hyperparameter intercept term\n",
    "    - c. print the coefficient of features\n",
    "    - d. print the coefficient of intercept term"
   ]
  },
  {
   "cell_type": "code",
   "execution_count": 10,
   "id": "9cefb66e",
   "metadata": {},
   "outputs": [],
   "source": [
    "# 3-a\n",
    "\n",
    "from sklearn.linear_model import LinearRegression"
   ]
  },
  {
   "cell_type": "code",
   "execution_count": 11,
   "id": "a64035d9",
   "metadata": {},
   "outputs": [
    {
     "data": {
      "text/plain": [
       "LinearRegression()"
      ]
     },
     "execution_count": 11,
     "metadata": {},
     "output_type": "execute_result"
    }
   ],
   "source": [
    "# 3-b\n",
    "\n",
    "model_3 = LinearRegression(fit_intercept = True)\n",
    "model_3.fit(X, y)"
   ]
  },
  {
   "cell_type": "code",
   "execution_count": 12,
   "id": "1e99d8ce",
   "metadata": {},
   "outputs": [
    {
     "data": {
      "text/plain": [
       "array([-1.08011358e-01,  4.64204584e-02,  2.05586264e-02,  2.68673382e+00,\n",
       "       -1.77666112e+01,  3.80986521e+00,  6.92224640e-04, -1.47556685e+00,\n",
       "        3.06049479e-01, -1.23345939e-02, -9.52747232e-01,  9.31168327e-03,\n",
       "       -5.24758378e-01])"
      ]
     },
     "execution_count": 12,
     "metadata": {},
     "output_type": "execute_result"
    }
   ],
   "source": [
    "# 3-c\n",
    "\n",
    "model_3.coef_"
   ]
  },
  {
   "cell_type": "code",
   "execution_count": 13,
   "id": "f54fc341",
   "metadata": {},
   "outputs": [
    {
     "data": {
      "text/plain": [
       "36.459488385089884"
      ]
     },
     "execution_count": 13,
     "metadata": {},
     "output_type": "execute_result"
    }
   ],
   "source": [
    "# 3-d\n",
    "\n",
    "model_3.intercept_"
   ]
  },
  {
   "cell_type": "markdown",
   "id": "6b4ebd68",
   "metadata": {},
   "source": [
    "- Ques 4: Predict and measure the model performance using mean squared error \n",
    "- a. import the mean_squared_error class from metrics module of sklearn library\n",
    "- b. predict MEDV for the boston data\n",
    "- c. evaluate the mean squared error between predict MEDV and real MEDV"
   ]
  },
  {
   "cell_type": "code",
   "execution_count": 14,
   "id": "ad1a748a",
   "metadata": {},
   "outputs": [],
   "source": [
    "# 4-a\n",
    "\n",
    "from sklearn.metrics import mean_squared_error"
   ]
  },
  {
   "cell_type": "code",
   "execution_count": 15,
   "id": "58a2e233",
   "metadata": {},
   "outputs": [],
   "source": [
    "# 4-b\n",
    "\n",
    "y_predict = model_3.predict(X)"
   ]
  },
  {
   "cell_type": "code",
   "execution_count": 16,
   "id": "8103ae3e",
   "metadata": {},
   "outputs": [
    {
     "data": {
      "text/plain": [
       "21.894831181729206"
      ]
     },
     "execution_count": 16,
     "metadata": {},
     "output_type": "execute_result"
    }
   ],
   "source": [
    "# 4-c\n",
    "\n",
    "mean_squared_error(y_predict, y, squared = True)"
   ]
  },
  {
   "cell_type": "markdown",
   "id": "e0ef2952",
   "metadata": {},
   "source": [
    "- Ques 5: Model validation using holdout dataset\n",
    " - a. import the train_test_split class\n",
    " - b. split the boston data into X_train, X_test, y_train ,and y_test with 50% in each set (Note: set random_state=1)\n",
    " - c. fit the train data with a linear regression\n",
    " - d. predict MEDV for the test data\n",
    " - e. evaluate the mean squared error between predict MEDV and real MEDV of test data"
   ]
  },
  {
   "cell_type": "code",
   "execution_count": 17,
   "id": "cc4711ff",
   "metadata": {},
   "outputs": [],
   "source": [
    "# 5-a\n",
    "\n",
    "from sklearn.model_selection import train_test_split"
   ]
  },
  {
   "cell_type": "code",
   "execution_count": 18,
   "id": "e0b5cc92",
   "metadata": {},
   "outputs": [],
   "source": [
    "# 5-b\n",
    "\n",
    "X_train, X_test, y_train, y_test = train_test_split(X, y, test_size = 0.5, random_state = 1)"
   ]
  },
  {
   "cell_type": "code",
   "execution_count": 19,
   "id": "eb307284",
   "metadata": {},
   "outputs": [
    {
     "data": {
      "text/plain": [
       "LinearRegression()"
      ]
     },
     "execution_count": 19,
     "metadata": {},
     "output_type": "execute_result"
    }
   ],
   "source": [
    "# 5-c\n",
    "\n",
    "model_5 = LinearRegression()\n",
    "model_5.fit(X_train, y_train)"
   ]
  },
  {
   "cell_type": "code",
   "execution_count": 20,
   "id": "e4628fde",
   "metadata": {},
   "outputs": [],
   "source": [
    "# 5-d\n",
    "\n",
    "y_test_predict = model_5.predict(X_test)"
   ]
  },
  {
   "cell_type": "code",
   "execution_count": 21,
   "id": "b43840da",
   "metadata": {},
   "outputs": [
    {
     "data": {
      "text/plain": [
       "22.839287038640208"
      ]
     },
     "execution_count": 21,
     "metadata": {},
     "output_type": "execute_result"
    }
   ],
   "source": [
    "# 5-e\n",
    "\n",
    "mean_squared_error(y_test_predict, y_test, squared = True)"
   ]
  },
  {
   "cell_type": "markdown",
   "id": "ab3e90b6",
   "metadata": {},
   "source": [
    "- Ques 6: Model validation using cross-validation\n",
    "    - a. import the cross_val_score class from model_selection module of sklearn library\n",
    "    - b. use Scikit-Learn's cross_val_score to split the boston data into five\n",
    "fold and evaluate the model fit by 'neg_mean_squared_error'\n",
    "    - c. use Scikit-Learn's cross_val_score to split the boston data into five\n",
    "fold and evaluate the model fit by 'neg_mean_absolute_error'"
   ]
  },
  {
   "cell_type": "code",
   "execution_count": 22,
   "id": "cff64145",
   "metadata": {},
   "outputs": [],
   "source": [
    "# 6-a\n",
    "\n",
    "from sklearn.model_selection import cross_val_score"
   ]
  },
  {
   "cell_type": "code",
   "execution_count": 23,
   "id": "221a2c07",
   "metadata": {},
   "outputs": [
    {
     "data": {
      "text/plain": [
       "array([-12.46030057, -26.04862111, -33.07413798, -80.76237112,\n",
       "       -33.31360656])"
      ]
     },
     "execution_count": 23,
     "metadata": {},
     "output_type": "execute_result"
    }
   ],
   "source": [
    "# 6-b \n",
    "\n",
    "cross_val_score(model_5, X, y, cv = 5, scoring = 'neg_mean_squared_error')"
   ]
  },
  {
   "cell_type": "code",
   "execution_count": 24,
   "id": "0f1dda98",
   "metadata": {},
   "outputs": [
    {
     "data": {
      "text/plain": [
       "array([-2.62190565, -3.90725478, -4.386606  , -5.57073637, -4.76333993])"
      ]
     },
     "execution_count": 24,
     "metadata": {},
     "output_type": "execute_result"
    }
   ],
   "source": [
    "# 6-c\n",
    "\n",
    "cross_val_score(model_5, X, y, cv = 5, scoring = 'neg_mean_absolute_error')"
   ]
  },
  {
   "cell_type": "markdown",
   "id": "e3ef5984",
   "metadata": {},
   "source": [
    "- Ques 7 : Classification problem\n",
    "    - a. load the iris data from sklearn.datasets\n",
    "    - b. set data as iris_X, target as iris_y\n",
    "    - c. instantiate iris_model using GaussianNB model from naive_bayes library of sklearn \n",
    "    and fit the model to the data\n",
    "    - d. predict the iris_X data and evaluate the model fit using accuracy_score function\n",
    "    - e. split the iris data into five fold and evaluate the model fit"
   ]
  },
  {
   "cell_type": "code",
   "execution_count": 30,
   "id": "762ed9b7",
   "metadata": {},
   "outputs": [],
   "source": [
    "from sklearn.metrics import accuracy_score"
   ]
  },
  {
   "cell_type": "code",
   "execution_count": 31,
   "id": "658e32b0",
   "metadata": {},
   "outputs": [],
   "source": [
    "# 7-a\n",
    "\n",
    "from sklearn.datasets import load_iris\n",
    "iris = load_iris()"
   ]
  },
  {
   "cell_type": "code",
   "execution_count": 32,
   "id": "21008363",
   "metadata": {},
   "outputs": [],
   "source": [
    "# 7-b\n",
    "\n",
    "iris_X = iris.data\n",
    "iris_y = iris.target"
   ]
  },
  {
   "cell_type": "code",
   "execution_count": 37,
   "id": "9d4ca582",
   "metadata": {},
   "outputs": [
    {
     "data": {
      "text/plain": [
       "GaussianNB()"
      ]
     },
     "execution_count": 37,
     "metadata": {},
     "output_type": "execute_result"
    }
   ],
   "source": [
    "# 7-c\n",
    "\n",
    "from sklearn.naive_bayes import GaussianNB\n",
    "iris_model = GaussianNB()\n",
    "iris_model.fit(iris_X, iris_y)"
   ]
  },
  {
   "cell_type": "code",
   "execution_count": 39,
   "id": "3cf4a220",
   "metadata": {},
   "outputs": [
    {
     "data": {
      "text/plain": [
       "0.96"
      ]
     },
     "execution_count": 39,
     "metadata": {},
     "output_type": "execute_result"
    }
   ],
   "source": [
    "# 7-d\n",
    "\n",
    "y_predict = iris_model.predict(iris_X)\n",
    "accuracy_score(y_predict, iris_y)"
   ]
  },
  {
   "cell_type": "code",
   "execution_count": 40,
   "id": "91354ed9",
   "metadata": {},
   "outputs": [
    {
     "data": {
      "text/plain": [
       "array([0.93333333, 0.96666667, 0.93333333, 0.93333333, 1.        ])"
      ]
     },
     "metadata": {},
     "output_type": "display_data"
    },
    {
     "data": {
      "text/plain": [
       "0.9533333333333334"
      ]
     },
     "metadata": {},
     "output_type": "display_data"
    }
   ],
   "source": [
    "# 7-e\n",
    "\n",
    "score = cross_val_score(iris_model , iris_X, iris_y, cv = 5)\n",
    "display(score)\n",
    "display(score.mean())"
   ]
  },
  {
   "cell_type": "code",
   "execution_count": null,
   "id": "1ea8c20b",
   "metadata": {},
   "outputs": [],
   "source": []
  }
 ],
 "metadata": {
  "kernelspec": {
   "display_name": "Python 3 (ipykernel)",
   "language": "python",
   "name": "python3"
  },
  "language_info": {
   "codemirror_mode": {
    "name": "ipython",
    "version": 3
   },
   "file_extension": ".py",
   "mimetype": "text/x-python",
   "name": "python",
   "nbconvert_exporter": "python",
   "pygments_lexer": "ipython3",
   "version": "3.9.13"
  },
  "toc": {
   "base_numbering": 1,
   "nav_menu": {},
   "number_sections": true,
   "sideBar": true,
   "skip_h1_title": false,
   "title_cell": "Table of Contents",
   "title_sidebar": "Contents",
   "toc_cell": false,
   "toc_position": {},
   "toc_section_display": true,
   "toc_window_display": false
  }
 },
 "nbformat": 4,
 "nbformat_minor": 5
}
