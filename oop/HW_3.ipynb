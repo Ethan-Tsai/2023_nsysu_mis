{
 "cells": [
  {
   "cell_type": "markdown",
   "id": "9766a73f",
   "metadata": {},
   "source": [
    "# B104020024 蔡尚宸"
   ]
  },
  {
   "cell_type": "code",
   "execution_count": 73,
   "id": "66053142",
   "metadata": {},
   "outputs": [],
   "source": [
    "import numpy as np"
   ]
  },
  {
   "cell_type": "code",
   "execution_count": 74,
   "id": "9aaefa89",
   "metadata": {},
   "outputs": [],
   "source": [
    "np.random.seed(0)\n",
    "X1 = np.random.randint(100, size = (10))\n",
    "X2 = np.random.randint(100, size = (4, 4))"
   ]
  },
  {
   "cell_type": "markdown",
   "id": "4be3a08e",
   "metadata": {},
   "source": [
    "# Q1"
   ]
  },
  {
   "cell_type": "code",
   "execution_count": 75,
   "id": "9f166d85",
   "metadata": {},
   "outputs": [
    {
     "name": "stdout",
     "output_type": "stream",
     "text": [
      "[44 47 64 67 67  9 83 21 36 87]\n"
     ]
    }
   ],
   "source": [
    "print(X1)"
   ]
  },
  {
   "cell_type": "code",
   "execution_count": 76,
   "id": "5e629840",
   "metadata": {},
   "outputs": [],
   "source": [
    "i=np.array([2,6,3,8])"
   ]
  },
  {
   "cell_type": "code",
   "execution_count": 77,
   "id": "93b486a4",
   "metadata": {},
   "outputs": [
    {
     "name": "stdout",
     "output_type": "stream",
     "text": [
      "64\n",
      "83\n",
      "67\n",
      "36\n"
     ]
    }
   ],
   "source": [
    "for n in range(0,4):\n",
    "    print(X1[i[n]])"
   ]
  },
  {
   "cell_type": "code",
   "execution_count": 78,
   "id": "0369b073",
   "metadata": {},
   "outputs": [
    {
     "name": "stdout",
     "output_type": "stream",
     "text": [
      "[64 83 67 36]\n"
     ]
    }
   ],
   "source": [
    "c=np.array([2,6,3,8])\n",
    "Xnewc=X1[c]\n",
    "print(Xnewc)"
   ]
  },
  {
   "cell_type": "code",
   "execution_count": 79,
   "id": "5ae06f8d",
   "metadata": {},
   "outputs": [
    {
     "name": "stdout",
     "output_type": "stream",
     "text": [
      "[[64 83]\n",
      " [67 36]]\n"
     ]
    }
   ],
   "source": [
    "d=c.reshape(2,2)\n",
    "Xnewd=X1[d]\n",
    "print(Xnewd)"
   ]
  },
  {
   "cell_type": "markdown",
   "id": "ffe0c57b",
   "metadata": {},
   "source": [
    "# Q2"
   ]
  },
  {
   "cell_type": "code",
   "execution_count": 80,
   "id": "fa03c23e",
   "metadata": {},
   "outputs": [
    {
     "name": "stdout",
     "output_type": "stream",
     "text": [
      "[[70 88 88 12]\n",
      " [58 65 39 87]\n",
      " [46 88 81 37]\n",
      " [25 77 72  9]]\n"
     ]
    }
   ],
   "source": [
    "print(X2)"
   ]
  },
  {
   "cell_type": "code",
   "execution_count": 81,
   "id": "a1e50c49",
   "metadata": {},
   "outputs": [
    {
     "name": "stdout",
     "output_type": "stream",
     "text": [
      "87\n",
      "81\n",
      "77\n"
     ]
    }
   ],
   "source": [
    "print(X2[1,3])\n",
    "print(X2[2,2])\n",
    "print(X2[3,1])"
   ]
  },
  {
   "cell_type": "code",
   "execution_count": 82,
   "id": "1f9ecc10",
   "metadata": {},
   "outputs": [
    {
     "name": "stdout",
     "output_type": "stream",
     "text": [
      "[87 81 77]\n"
     ]
    }
   ],
   "source": [
    "e=np.array([1,2,3])\n",
    "f=np.array([3,2,1])\n",
    "Xnew2c=X2[e,f]\n",
    "print(Xnew2c)"
   ]
  },
  {
   "cell_type": "code",
   "execution_count": 83,
   "id": "5642d219",
   "metadata": {},
   "outputs": [
    {
     "name": "stdout",
     "output_type": "stream",
     "text": [
      "[[87 39 65]\n",
      " [37 81 88]\n",
      " [ 9 72 77]]\n"
     ]
    }
   ],
   "source": [
    "row=np.array([1,2,3])\n",
    "col=np.array([3,2,1])\n",
    "Xnew2d=X2[row[:,np.newaxis],col]\n",
    "print(Xnew2d)"
   ]
  },
  {
   "cell_type": "markdown",
   "id": "e1fd901d",
   "metadata": {},
   "source": [
    "# Q3 "
   ]
  },
  {
   "cell_type": "code",
   "execution_count": 84,
   "id": "6dfcbd2a",
   "metadata": {},
   "outputs": [
    {
     "name": "stdout",
     "output_type": "stream",
     "text": [
      "[[70 88 88 12]\n",
      " [58 65 39 87]\n",
      " [46 88 81 37]\n",
      " [25 77 72  9]]\n"
     ]
    }
   ],
   "source": [
    "print(X2)"
   ]
  },
  {
   "cell_type": "code",
   "execution_count": 85,
   "id": "24ec5763",
   "metadata": {},
   "outputs": [
    {
     "name": "stdout",
     "output_type": "stream",
     "text": [
      "[25 77 72  9]\n"
     ]
    }
   ],
   "source": [
    "print(X2[3,:])"
   ]
  },
  {
   "cell_type": "code",
   "execution_count": 86,
   "id": "4030fcde",
   "metadata": {},
   "outputs": [
    {
     "name": "stdout",
     "output_type": "stream",
     "text": [
      "[[ 9 77 72]]\n"
     ]
    }
   ],
   "source": [
    "print(X2[3:,[3,1,2]])"
   ]
  },
  {
   "cell_type": "code",
   "execution_count": 87,
   "id": "bf607245",
   "metadata": {},
   "outputs": [
    {
     "name": "stdout",
     "output_type": "stream",
     "text": [
      "[[37 88 81]\n",
      " [87 65 39]]\n"
     ]
    }
   ],
   "source": [
    "row=np.array([2,1])\n",
    "col=np.array([3,1,2])\n",
    "Xnew3d=X2[row[:,np.newaxis],col]\n",
    "print(Xnew3d)"
   ]
  },
  {
   "cell_type": "markdown",
   "id": "2c1cbef2",
   "metadata": {},
   "source": [
    "# Q4"
   ]
  },
  {
   "cell_type": "code",
   "execution_count": 88,
   "id": "e333bb89",
   "metadata": {},
   "outputs": [],
   "source": [
    "X3 = np.arange(10)"
   ]
  },
  {
   "cell_type": "code",
   "execution_count": 89,
   "id": "9c2e98b3",
   "metadata": {},
   "outputs": [
    {
     "name": "stdout",
     "output_type": "stream",
     "text": [
      "[0 1 2 3 4 5 6 7 8 9]\n"
     ]
    }
   ],
   "source": [
    "print(X3)"
   ]
  },
  {
   "cell_type": "code",
   "execution_count": 90,
   "id": "4710f93e",
   "metadata": {},
   "outputs": [
    {
     "name": "stdout",
     "output_type": "stream",
     "text": [
      "[ 0  1  2 15  4  5 15  7 15  9]\n"
     ]
    }
   ],
   "source": [
    "i=np.array([3,6,8])\n",
    "X3[i]=15\n",
    "print(X3)"
   ]
  },
  {
   "cell_type": "code",
   "execution_count": 91,
   "id": "dfbdcb01",
   "metadata": {},
   "outputs": [
    {
     "name": "stdout",
     "output_type": "stream",
     "text": [
      "[ 0  1 -8 15  4  5  5  7  5  9]\n"
     ]
    }
   ],
   "source": [
    "i=np.array([2,6,8])\n",
    "X3[i]-=10\n",
    "print(X3)"
   ]
  },
  {
   "cell_type": "markdown",
   "id": "a817afb7",
   "metadata": {},
   "source": [
    "# Q5"
   ]
  },
  {
   "cell_type": "code",
   "execution_count": 92,
   "id": "9c9fb19c",
   "metadata": {},
   "outputs": [
    {
     "data": {
      "text/plain": [
       "array([[70, 88, 88, 12],\n",
       "       [58, 65, 39, 87],\n",
       "       [46, 88, 81, 37],\n",
       "       [25, 77, 72,  9]])"
      ]
     },
     "execution_count": 92,
     "metadata": {},
     "output_type": "execute_result"
    }
   ],
   "source": [
    "X2"
   ]
  },
  {
   "cell_type": "code",
   "execution_count": 93,
   "id": "3d123a2b",
   "metadata": {},
   "outputs": [
    {
     "data": {
      "text/plain": [
       "array([[25, 65, 39,  9],\n",
       "       [46, 77, 72, 12],\n",
       "       [58, 88, 81, 37],\n",
       "       [70, 88, 88, 87]])"
      ]
     },
     "execution_count": 93,
     "metadata": {},
     "output_type": "execute_result"
    }
   ],
   "source": [
    "np.sort(X2,axis=0)"
   ]
  },
  {
   "cell_type": "code",
   "execution_count": 94,
   "id": "582bbb8d",
   "metadata": {},
   "outputs": [
    {
     "data": {
      "text/plain": [
       "array([[12, 70, 88, 88],\n",
       "       [39, 58, 65, 87],\n",
       "       [37, 46, 81, 88],\n",
       "       [ 9, 25, 72, 77]])"
      ]
     },
     "execution_count": 94,
     "metadata": {},
     "output_type": "execute_result"
    }
   ],
   "source": [
    "np.sort(X2,axis=1)"
   ]
  },
  {
   "cell_type": "code",
   "execution_count": 95,
   "id": "3e530354",
   "metadata": {},
   "outputs": [
    {
     "data": {
      "text/plain": [
       "array([[3, 1, 1, 3],\n",
       "       [2, 3, 3, 0],\n",
       "       [1, 0, 2, 2],\n",
       "       [0, 2, 0, 1]], dtype=int64)"
      ]
     },
     "execution_count": 95,
     "metadata": {},
     "output_type": "execute_result"
    }
   ],
   "source": [
    "np.argsort(X2,axis=0)"
   ]
  },
  {
   "cell_type": "code",
   "execution_count": 96,
   "id": "09d87f39",
   "metadata": {},
   "outputs": [
    {
     "data": {
      "text/plain": [
       "array([[3, 0, 1, 2],\n",
       "       [2, 0, 1, 3],\n",
       "       [3, 0, 2, 1],\n",
       "       [3, 0, 2, 1]], dtype=int64)"
      ]
     },
     "execution_count": 96,
     "metadata": {},
     "output_type": "execute_result"
    }
   ],
   "source": [
    "np.argsort(X2,axis=1)"
   ]
  }
 ],
 "metadata": {
  "kernelspec": {
   "display_name": "Python 3 (ipykernel)",
   "language": "python",
   "name": "python3"
  },
  "language_info": {
   "codemirror_mode": {
    "name": "ipython",
    "version": 3
   },
   "file_extension": ".py",
   "mimetype": "text/x-python",
   "name": "python",
   "nbconvert_exporter": "python",
   "pygments_lexer": "ipython3",
   "version": "3.9.12"
  }
 },
 "nbformat": 4,
 "nbformat_minor": 5
}
