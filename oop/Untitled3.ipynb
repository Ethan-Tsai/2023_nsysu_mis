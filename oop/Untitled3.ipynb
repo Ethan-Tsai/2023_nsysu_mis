{
 "cells": [
  {
   "cell_type": "code",
   "execution_count": 2,
   "id": "e2db3965",
   "metadata": {},
   "outputs": [
    {
     "name": "stdout",
     "output_type": "stream",
     "text": [
      "Requirement already satisfied: jupyter in c:\\users\\ethan tsai\\anaconda3\\lib\\site-packages (1.0.0)\n",
      "Collecting themes\n",
      "  Downloading themes-0.0.4-py3-none-any.whl (279 kB)\n",
      "Requirement already satisfied: jupyter-console in c:\\users\\ethan tsai\\anaconda3\\lib\\site-packages (from jupyter) (6.4.0)\n",
      "Requirement already satisfied: notebook in c:\\users\\ethan tsai\\anaconda3\\lib\\site-packages (from jupyter) (6.4.8)\n",
      "Requirement already satisfied: ipykernel in c:\\users\\ethan tsai\\anaconda3\\lib\\site-packages (from jupyter) (6.9.1)\n",
      "Requirement already satisfied: ipywidgets in c:\\users\\ethan tsai\\anaconda3\\lib\\site-packages (from jupyter) (7.6.5)\n",
      "Requirement already satisfied: nbconvert in c:\\users\\ethan tsai\\anaconda3\\lib\\site-packages (from jupyter) (6.4.4)\n",
      "Requirement already satisfied: qtconsole in c:\\users\\ethan tsai\\anaconda3\\lib\\site-packages (from jupyter) (5.3.0)\n",
      "Requirement already satisfied: numpy in c:\\users\\ethan tsai\\anaconda3\\lib\\site-packages (from themes) (1.21.5)\n",
      "Requirement already satisfied: pandas in c:\\users\\ethan tsai\\anaconda3\\lib\\site-packages (from themes) (1.4.2)\n",
      "Requirement already satisfied: pyyaml in c:\\users\\ethan tsai\\anaconda3\\lib\\site-packages (from themes) (6.0)\n",
      "Requirement already satisfied: nest-asyncio in c:\\users\\ethan tsai\\anaconda3\\lib\\site-packages (from ipykernel->jupyter) (1.5.5)\n",
      "Requirement already satisfied: matplotlib-inline<0.2.0,>=0.1.0 in c:\\users\\ethan tsai\\anaconda3\\lib\\site-packages (from ipykernel->jupyter) (0.1.2)\n",
      "Requirement already satisfied: tornado<7.0,>=4.2 in c:\\users\\ethan tsai\\anaconda3\\lib\\site-packages (from ipykernel->jupyter) (6.1)\n",
      "Requirement already satisfied: ipython>=7.23.1 in c:\\users\\ethan tsai\\anaconda3\\lib\\site-packages (from ipykernel->jupyter) (8.2.0)\n",
      "Requirement already satisfied: traitlets<6.0,>=5.1.0 in c:\\users\\ethan tsai\\anaconda3\\lib\\site-packages (from ipykernel->jupyter) (5.1.1)\n",
      "Requirement already satisfied: debugpy<2.0,>=1.0.0 in c:\\users\\ethan tsai\\anaconda3\\lib\\site-packages (from ipykernel->jupyter) (1.5.1)\n",
      "Requirement already satisfied: jupyter-client<8.0 in c:\\users\\ethan tsai\\anaconda3\\lib\\site-packages (from ipykernel->jupyter) (6.1.12)\n",
      "Requirement already satisfied: colorama in c:\\users\\ethan tsai\\anaconda3\\lib\\site-packages (from ipython>=7.23.1->ipykernel->jupyter) (0.4.4)\n",
      "Requirement already satisfied: jedi>=0.16 in c:\\users\\ethan tsai\\anaconda3\\lib\\site-packages (from ipython>=7.23.1->ipykernel->jupyter) (0.18.1)\n",
      "Requirement already satisfied: pickleshare in c:\\users\\ethan tsai\\anaconda3\\lib\\site-packages (from ipython>=7.23.1->ipykernel->jupyter) (0.7.5)\n",
      "Requirement already satisfied: setuptools>=18.5 in c:\\users\\ethan tsai\\anaconda3\\lib\\site-packages (from ipython>=7.23.1->ipykernel->jupyter) (61.2.0)\n",
      "Requirement already satisfied: decorator in c:\\users\\ethan tsai\\anaconda3\\lib\\site-packages (from ipython>=7.23.1->ipykernel->jupyter) (5.1.1)\n",
      "Requirement already satisfied: stack-data in c:\\users\\ethan tsai\\anaconda3\\lib\\site-packages (from ipython>=7.23.1->ipykernel->jupyter) (0.2.0)\n",
      "Requirement already satisfied: backcall in c:\\users\\ethan tsai\\anaconda3\\lib\\site-packages (from ipython>=7.23.1->ipykernel->jupyter) (0.2.0)\n",
      "Requirement already satisfied: prompt-toolkit!=3.0.0,!=3.0.1,<3.1.0,>=2.0.0 in c:\\users\\ethan tsai\\anaconda3\\lib\\site-packages (from ipython>=7.23.1->ipykernel->jupyter) (3.0.20)\n",
      "Requirement already satisfied: pygments>=2.4.0 in c:\\users\\ethan tsai\\anaconda3\\lib\\site-packages (from ipython>=7.23.1->ipykernel->jupyter) (2.11.2)\n",
      "Requirement already satisfied: parso<0.9.0,>=0.8.0 in c:\\users\\ethan tsai\\anaconda3\\lib\\site-packages (from jedi>=0.16->ipython>=7.23.1->ipykernel->jupyter) (0.8.3)\n",
      "Requirement already satisfied: python-dateutil>=2.1 in c:\\users\\ethan tsai\\anaconda3\\lib\\site-packages (from jupyter-client<8.0->ipykernel->jupyter) (2.8.2)\n",
      "Requirement already satisfied: pyzmq>=13 in c:\\users\\ethan tsai\\anaconda3\\lib\\site-packages (from jupyter-client<8.0->ipykernel->jupyter) (22.3.0)\n",
      "Requirement already satisfied: jupyter-core>=4.6.0 in c:\\users\\ethan tsai\\anaconda3\\lib\\site-packages (from jupyter-client<8.0->ipykernel->jupyter) (4.9.2)\n",
      "Requirement already satisfied: pywin32>=1.0 in c:\\users\\ethan tsai\\anaconda3\\lib\\site-packages (from jupyter-core>=4.6.0->jupyter-client<8.0->ipykernel->jupyter) (302)\n",
      "Requirement already satisfied: wcwidth in c:\\users\\ethan tsai\\anaconda3\\lib\\site-packages (from prompt-toolkit!=3.0.0,!=3.0.1,<3.1.0,>=2.0.0->ipython>=7.23.1->ipykernel->jupyter) (0.2.5)\n",
      "Requirement already satisfied: six>=1.5 in c:\\users\\ethan tsai\\anaconda3\\lib\\site-packages (from python-dateutil>=2.1->jupyter-client<8.0->ipykernel->jupyter) (1.16.0)\n",
      "Requirement already satisfied: nbformat>=4.2.0 in c:\\users\\ethan tsai\\anaconda3\\lib\\site-packages (from ipywidgets->jupyter) (5.3.0)\n",
      "Requirement already satisfied: ipython-genutils~=0.2.0 in c:\\users\\ethan tsai\\anaconda3\\lib\\site-packages (from ipywidgets->jupyter) (0.2.0)\n",
      "Requirement already satisfied: widgetsnbextension~=3.5.0 in c:\\users\\ethan tsai\\anaconda3\\lib\\site-packages (from ipywidgets->jupyter) (3.5.2)\n",
      "Requirement already satisfied: jupyterlab-widgets>=1.0.0 in c:\\users\\ethan tsai\\anaconda3\\lib\\site-packages (from ipywidgets->jupyter) (1.0.0)\n",
      "Requirement already satisfied: fastjsonschema in c:\\users\\ethan tsai\\anaconda3\\lib\\site-packages (from nbformat>=4.2.0->ipywidgets->jupyter) (2.15.1)\n",
      "Requirement already satisfied: jsonschema>=2.6 in c:\\users\\ethan tsai\\anaconda3\\lib\\site-packages (from nbformat>=4.2.0->ipywidgets->jupyter) (4.4.0)\n",
      "Requirement already satisfied: attrs>=17.4.0 in c:\\users\\ethan tsai\\anaconda3\\lib\\site-packages (from jsonschema>=2.6->nbformat>=4.2.0->ipywidgets->jupyter) (21.4.0)\n",
      "Requirement already satisfied: pyrsistent!=0.17.0,!=0.17.1,!=0.17.2,>=0.14.0 in c:\\users\\ethan tsai\\anaconda3\\lib\\site-packages (from jsonschema>=2.6->nbformat>=4.2.0->ipywidgets->jupyter) (0.18.0)\n",
      "Requirement already satisfied: jinja2 in c:\\users\\ethan tsai\\anaconda3\\lib\\site-packages (from notebook->jupyter) (2.11.3)\n",
      "Requirement already satisfied: terminado>=0.8.3 in c:\\users\\ethan tsai\\anaconda3\\lib\\site-packages (from notebook->jupyter) (0.13.1)\n",
      "Requirement already satisfied: argon2-cffi in c:\\users\\ethan tsai\\anaconda3\\lib\\site-packages (from notebook->jupyter) (21.3.0)\n",
      "Requirement already satisfied: Send2Trash>=1.8.0 in c:\\users\\ethan tsai\\anaconda3\\lib\\site-packages (from notebook->jupyter) (1.8.0)\n",
      "Requirement already satisfied: prometheus-client in c:\\users\\ethan tsai\\anaconda3\\lib\\site-packages (from notebook->jupyter) (0.13.1)\n",
      "Requirement already satisfied: pywinpty>=1.1.0 in c:\\users\\ethan tsai\\anaconda3\\lib\\site-packages (from terminado>=0.8.3->notebook->jupyter) (2.0.2)\n",
      "Requirement already satisfied: argon2-cffi-bindings in c:\\users\\ethan tsai\\anaconda3\\lib\\site-packages (from argon2-cffi->notebook->jupyter) (21.2.0)\n",
      "Requirement already satisfied: cffi>=1.0.1 in c:\\users\\ethan tsai\\anaconda3\\lib\\site-packages (from argon2-cffi-bindings->argon2-cffi->notebook->jupyter) (1.15.0)\n",
      "Requirement already satisfied: pycparser in c:\\users\\ethan tsai\\anaconda3\\lib\\site-packages (from cffi>=1.0.1->argon2-cffi-bindings->argon2-cffi->notebook->jupyter) (2.21)\n",
      "Requirement already satisfied: MarkupSafe>=0.23 in c:\\users\\ethan tsai\\anaconda3\\lib\\site-packages (from jinja2->notebook->jupyter) (2.0.1)\n",
      "Requirement already satisfied: jupyterlab-pygments in c:\\users\\ethan tsai\\anaconda3\\lib\\site-packages (from nbconvert->jupyter) (0.1.2)\n",
      "Requirement already satisfied: defusedxml in c:\\users\\ethan tsai\\anaconda3\\lib\\site-packages (from nbconvert->jupyter) (0.7.1)\n",
      "Requirement already satisfied: testpath in c:\\users\\ethan tsai\\anaconda3\\lib\\site-packages (from nbconvert->jupyter) (0.5.0)\n",
      "Requirement already satisfied: mistune<2,>=0.8.1 in c:\\users\\ethan tsai\\anaconda3\\lib\\site-packages (from nbconvert->jupyter) (0.8.4)\n",
      "Requirement already satisfied: pandocfilters>=1.4.1 in c:\\users\\ethan tsai\\anaconda3\\lib\\site-packages (from nbconvert->jupyter) (1.5.0)\n",
      "Requirement already satisfied: nbclient<0.6.0,>=0.5.0 in c:\\users\\ethan tsai\\anaconda3\\lib\\site-packages (from nbconvert->jupyter) (0.5.13)\n",
      "Requirement already satisfied: entrypoints>=0.2.2 in c:\\users\\ethan tsai\\anaconda3\\lib\\site-packages (from nbconvert->jupyter) (0.4)\n",
      "Requirement already satisfied: bleach in c:\\users\\ethan tsai\\anaconda3\\lib\\site-packages (from nbconvert->jupyter) (4.1.0)\n",
      "Requirement already satisfied: beautifulsoup4 in c:\\users\\ethan tsai\\anaconda3\\lib\\site-packages (from nbconvert->jupyter) (4.11.1)\n",
      "Requirement already satisfied: soupsieve>1.2 in c:\\users\\ethan tsai\\anaconda3\\lib\\site-packages (from beautifulsoup4->nbconvert->jupyter) (2.3.1)\n",
      "Requirement already satisfied: packaging in c:\\users\\ethan tsai\\anaconda3\\lib\\site-packages (from bleach->nbconvert->jupyter) (21.3)\n",
      "Requirement already satisfied: webencodings in c:\\users\\ethan tsai\\anaconda3\\lib\\site-packages (from bleach->nbconvert->jupyter) (0.5.1)\n",
      "Requirement already satisfied: pyparsing!=3.0.5,>=2.0.2 in c:\\users\\ethan tsai\\anaconda3\\lib\\site-packages (from packaging->bleach->nbconvert->jupyter) (3.0.4)\n",
      "Requirement already satisfied: pytz>=2020.1 in c:\\users\\ethan tsai\\anaconda3\\lib\\site-packages (from pandas->themes) (2021.3)\n",
      "Requirement already satisfied: qtpy>=2.0.1 in c:\\users\\ethan tsai\\anaconda3\\lib\\site-packages (from qtconsole->jupyter) (2.0.1)\n",
      "Requirement already satisfied: asttokens in c:\\users\\ethan tsai\\anaconda3\\lib\\site-packages (from stack-data->ipython>=7.23.1->ipykernel->jupyter) (2.0.5)\n",
      "Requirement already satisfied: pure-eval in c:\\users\\ethan tsai\\anaconda3\\lib\\site-packages (from stack-data->ipython>=7.23.1->ipykernel->jupyter) (0.2.2)\n",
      "Requirement already satisfied: executing in c:\\users\\ethan tsai\\anaconda3\\lib\\site-packages (from stack-data->ipython>=7.23.1->ipykernel->jupyter) (0.8.3)\n",
      "Installing collected packages: themes\n",
      "Successfully installed themes-0.0.4\n",
      "Note: you may need to restart the kernel to use updated packages.\n"
     ]
    }
   ],
   "source": [
    "pip install jupyter themes\n"
   ]
  },
  {
   "cell_type": "code",
   "execution_count": 8,
   "id": "de08094d",
   "metadata": {},
   "outputs": [
    {
     "name": "stderr",
     "output_type": "stream",
     "text": [
      "'jt' 不是內部或外部命令、可執行的程式或批次檔。\n"
     ]
    }
   ],
   "source": [
    "!jt -l"
   ]
  },
  {
   "cell_type": "code",
   "execution_count": null,
   "id": "eb1a9dc1",
   "metadata": {},
   "outputs": [],
   "source": []
  }
 ],
 "metadata": {
  "kernelspec": {
   "display_name": "Python 3 (ipykernel)",
   "language": "python",
   "name": "python3"
  },
  "language_info": {
   "codemirror_mode": {
    "name": "ipython",
    "version": 3
   },
   "file_extension": ".py",
   "mimetype": "text/x-python",
   "name": "python",
   "nbconvert_exporter": "python",
   "pygments_lexer": "ipython3",
   "version": "3.9.12"
  }
 },
 "nbformat": 4,
 "nbformat_minor": 5
}
