{
 "cells": [
  {
   "cell_type": "markdown",
   "id": "dafe16d4",
   "metadata": {},
   "source": [
    "# B104020024 HW_1 --9/20"
   ]
  },
  {
   "cell_type": "code",
   "execution_count": 1,
   "id": "517eb95d",
   "metadata": {},
   "outputs": [],
   "source": [
    "import numpy as np"
   ]
  },
  {
   "cell_type": "code",
   "execution_count": 2,
   "id": "e621787e",
   "metadata": {},
   "outputs": [],
   "source": [
    "list1=np.arange(5)\n",
    "list2=np.array(list1,dtype=np.float64)"
   ]
  },
  {
   "cell_type": "code",
   "execution_count": 3,
   "id": "498dba57",
   "metadata": {},
   "outputs": [
    {
     "name": "stdout",
     "output_type": "stream",
     "text": [
      "Data type =  float64\n",
      "Shape =   (5,)\n",
      "Size =  5\n",
      "Dimension =   1\n",
      "Each element memory size =   8\n",
      "Total array memory size =  40\n"
     ]
    }
   ],
   "source": [
    "print(\"Data type = \",list2.dtype)\n",
    "print(\"Shape =  \",list2.shape)\n",
    "print(\"Size = \",list2.size)\n",
    "print(\"Dimension =  \",list2.ndim)\n",
    "print(\"Each element memory size =  \",list2.itemsize)\n",
    "print(\"Total array memory size = \",list2.size*list2.itemsize)\n"
   ]
  },
  {
   "cell_type": "code",
   "execution_count": 4,
   "id": "175ff5ec",
   "metadata": {},
   "outputs": [],
   "source": [
    "list3=np.arange(8)\n",
    "list4=np.array(list3,dtype=np.int64)\n",
    "list4=list4.reshape(2,4)"
   ]
  },
  {
   "cell_type": "code",
   "execution_count": 5,
   "id": "b46281ce",
   "metadata": {},
   "outputs": [
    {
     "name": "stdout",
     "output_type": "stream",
     "text": [
      "Data type =  int64\n",
      "Shape =   (2, 4)\n",
      "Size =  8\n",
      "Dimension =   2\n",
      "Each element memory size =   8\n",
      "Total array memory size =  64\n"
     ]
    }
   ],
   "source": [
    "print(\"Data type = \",list4.dtype)\n",
    "print(\"Shape =  \",list4.shape)\n",
    "print(\"Size = \",list4.size)\n",
    "print(\"Dimension =  \",list4.ndim)\n",
    "print(\"Each element memory size =  \",list4.itemsize)\n",
    "print(\"Total array memory size = \",list4.size*list4.itemsize)"
   ]
  },
  {
   "cell_type": "code",
   "execution_count": 6,
   "id": "c055ec9e",
   "metadata": {},
   "outputs": [
    {
     "data": {
      "text/plain": [
       "array([0, 0, 0, 0, 0, 0, 0, 0, 0, 0])"
      ]
     },
     "execution_count": 6,
     "metadata": {},
     "output_type": "execute_result"
    }
   ],
   "source": [
    "np.zeros(10,dtype=int)"
   ]
  },
  {
   "cell_type": "code",
   "execution_count": 7,
   "id": "8a1788ce",
   "metadata": {},
   "outputs": [
    {
     "data": {
      "text/plain": [
       "array([[1., 1., 1., 1., 1.],\n",
       "       [1., 1., 1., 1., 1.],\n",
       "       [1., 1., 1., 1., 1.],\n",
       "       [1., 1., 1., 1., 1.]])"
      ]
     },
     "execution_count": 7,
     "metadata": {},
     "output_type": "execute_result"
    }
   ],
   "source": [
    "q4=np.ones(20,dtype=float)\n",
    "q4.reshape(4,5)"
   ]
  },
  {
   "cell_type": "code",
   "execution_count": 8,
   "id": "3fd70e50",
   "metadata": {},
   "outputs": [
    {
     "name": "stdout",
     "output_type": "stream",
     "text": [
      "[[1 0 0]\n",
      " [0 1 0]\n",
      " [0 0 1]]\n"
     ]
    }
   ],
   "source": [
    "q5=np.identity(3,dtype=int)\n",
    "print(q5)"
   ]
  },
  {
   "cell_type": "code",
   "execution_count": 9,
   "id": "20dc8a1d",
   "metadata": {},
   "outputs": [],
   "source": [
    "x=np.arange(10,dtype=int)"
   ]
  },
  {
   "cell_type": "code",
   "execution_count": 10,
   "id": "33d32ee8",
   "metadata": {},
   "outputs": [
    {
     "data": {
      "text/plain": [
       "array([ 0,  1,  2,  3,  4, 12, 12, 12,  8,  9])"
      ]
     },
     "execution_count": 10,
     "metadata": {},
     "output_type": "execute_result"
    }
   ],
   "source": [
    "x[5:8]=12\n",
    "x"
   ]
  },
  {
   "cell_type": "code",
   "execution_count": 11,
   "id": "057bd080",
   "metadata": {},
   "outputs": [],
   "source": [
    "q7=np.arange(1,10,dtype=int).reshape(3,3)"
   ]
  },
  {
   "cell_type": "code",
   "execution_count": 12,
   "id": "7b40f5d2",
   "metadata": {},
   "outputs": [
    {
     "data": {
      "text/plain": [
       "array([[1, 2, 3],\n",
       "       [4, 5, 6],\n",
       "       [7, 8, 9]])"
      ]
     },
     "execution_count": 12,
     "metadata": {},
     "output_type": "execute_result"
    }
   ],
   "source": [
    "q7"
   ]
  },
  {
   "cell_type": "code",
   "execution_count": 13,
   "id": "e523c147",
   "metadata": {},
   "outputs": [
    {
     "data": {
      "text/plain": [
       "array([[1, 2, 3],\n",
       "       [4, 5, 6]])"
      ]
     },
     "execution_count": 13,
     "metadata": {},
     "output_type": "execute_result"
    }
   ],
   "source": [
    "q7[0:2]"
   ]
  },
  {
   "cell_type": "code",
   "execution_count": 14,
   "id": "cadd2b50",
   "metadata": {},
   "outputs": [
    {
     "data": {
      "text/plain": [
       "array([[4, 5]])"
      ]
     },
     "execution_count": 14,
     "metadata": {},
     "output_type": "execute_result"
    }
   ],
   "source": [
    "q7[1:2,:2]"
   ]
  },
  {
   "cell_type": "code",
   "execution_count": 15,
   "id": "6c685016",
   "metadata": {},
   "outputs": [
    {
     "data": {
      "text/plain": [
       "array([[3],\n",
       "       [6]])"
      ]
     },
     "execution_count": 15,
     "metadata": {},
     "output_type": "execute_result"
    }
   ],
   "source": [
    "q7[:2,2:3]"
   ]
  },
  {
   "cell_type": "code",
   "execution_count": 16,
   "id": "057cb979",
   "metadata": {},
   "outputs": [
    {
     "data": {
      "text/plain": [
       "array([[1],\n",
       "       [4],\n",
       "       [7]])"
      ]
     },
     "execution_count": 16,
     "metadata": {},
     "output_type": "execute_result"
    }
   ],
   "source": [
    "q7[:3,:1]"
   ]
  },
  {
   "cell_type": "code",
   "execution_count": 17,
   "id": "38601195",
   "metadata": {},
   "outputs": [
    {
     "data": {
      "text/plain": [
       "array([[ 1,  2,  3],\n",
       "       [ 4,  5,  6],\n",
       "       [ 7,  8, 15]])"
      ]
     },
     "execution_count": 17,
     "metadata": {},
     "output_type": "execute_result"
    }
   ],
   "source": [
    "q7[2:3,2:3]=15\n",
    "q7"
   ]
  },
  {
   "cell_type": "code",
   "execution_count": 18,
   "id": "a8fd221f",
   "metadata": {},
   "outputs": [
    {
     "data": {
      "text/plain": [
       "array([[97],\n",
       "       [98],\n",
       "       [99]])"
      ]
     },
     "execution_count": 18,
     "metadata": {},
     "output_type": "execute_result"
    }
   ],
   "source": [
    "q81=np.arange(97,100).reshape(3,1)\n",
    "q81"
   ]
  },
  {
   "cell_type": "code",
   "execution_count": 19,
   "id": "ae8d0102",
   "metadata": {},
   "outputs": [
    {
     "data": {
      "text/plain": [
       "array([[1, 2, 3],\n",
       "       [4, 5, 6],\n",
       "       [7, 8, 9]])"
      ]
     },
     "execution_count": 19,
     "metadata": {},
     "output_type": "execute_result"
    }
   ],
   "source": [
    "q82=np.arange(1,10).reshape(3,3)\n",
    "q82"
   ]
  },
  {
   "cell_type": "code",
   "execution_count": 20,
   "id": "f7eabadb",
   "metadata": {},
   "outputs": [
    {
     "data": {
      "text/plain": [
       "array([[97,  1,  2,  3],\n",
       "       [98,  4,  5,  6],\n",
       "       [99,  7,  8,  9]])"
      ]
     },
     "execution_count": 20,
     "metadata": {},
     "output_type": "execute_result"
    }
   ],
   "source": [
    "q8new=np.hstack([q81,q82])\n",
    "q8new"
   ]
  },
  {
   "cell_type": "code",
   "execution_count": 21,
   "id": "7d80a13f",
   "metadata": {},
   "outputs": [
    {
     "data": {
      "text/plain": [
       "[array([[97,  1,  2,  3],\n",
       "        [98,  4,  5,  6]]),\n",
       " array([[99,  7,  8,  9]])]"
      ]
     },
     "execution_count": 21,
     "metadata": {},
     "output_type": "execute_result"
    }
   ],
   "source": [
    "np.vsplit(q8new,[2])"
   ]
  },
  {
   "cell_type": "code",
   "execution_count": 22,
   "id": "637d8eb0",
   "metadata": {},
   "outputs": [
    {
     "data": {
      "text/plain": [
       "[array([[97,  1],\n",
       "        [98,  4],\n",
       "        [99,  7]]),\n",
       " array([[2, 3],\n",
       "        [5, 6],\n",
       "        [8, 9]])]"
      ]
     },
     "execution_count": 22,
     "metadata": {},
     "output_type": "execute_result"
    }
   ],
   "source": [
    "np.hsplit(q8new,[2])"
   ]
  },
  {
   "cell_type": "code",
   "execution_count": 23,
   "id": "5b4822d6",
   "metadata": {},
   "outputs": [
    {
     "data": {
      "text/plain": [
       "[array([[97,  1,  2],\n",
       "        [98,  4,  5],\n",
       "        [99,  7,  8]]),\n",
       " array([[3],\n",
       "        [6],\n",
       "        [9]])]"
      ]
     },
     "execution_count": 23,
     "metadata": {},
     "output_type": "execute_result"
    }
   ],
   "source": [
    "np.hsplit(q8new,[3])"
   ]
  }
 ],
 "metadata": {
  "kernelspec": {
   "display_name": "Python 3 (ipykernel)",
   "language": "python",
   "name": "python3"
  },
  "language_info": {
   "codemirror_mode": {
    "name": "ipython",
    "version": 3
   },
   "file_extension": ".py",
   "mimetype": "text/x-python",
   "name": "python",
   "nbconvert_exporter": "python",
   "pygments_lexer": "ipython3",
   "version": "3.9.12"
  }
 },
 "nbformat": 4,
 "nbformat_minor": 5
}
