{
 "cells": [
  {
   "cell_type": "markdown",
   "id": "9c207f6c",
   "metadata": {},
   "source": [
    "# Computation on NumPy Arrays: Universal Functions"
   ]
  },
  {
   "cell_type": "code",
   "execution_count": 13,
   "id": "d9ea3bbc",
   "metadata": {},
   "outputs": [],
   "source": [
    "import numpy as np"
   ]
  },
  {
   "cell_type": "code",
   "execution_count": 2,
   "id": "a3fd1e5d",
   "metadata": {},
   "outputs": [],
   "source": [
    "x = np.arange(4)"
   ]
  },
  {
   "cell_type": "code",
   "execution_count": 3,
   "id": "68ec7b56",
   "metadata": {},
   "outputs": [
    {
     "data": {
      "text/plain": [
       "array([0, 1, 2, 3])"
      ]
     },
     "execution_count": 3,
     "metadata": {},
     "output_type": "execute_result"
    }
   ],
   "source": [
    "x"
   ]
  },
  {
   "cell_type": "code",
   "execution_count": 7,
   "id": "b93c706e",
   "metadata": {},
   "outputs": [
    {
     "name": "stdout",
     "output_type": "stream",
     "text": [
      "Addition: [5 6 7 8]\n"
     ]
    }
   ],
   "source": [
    "# Addition\n",
    "\n",
    "print(\"Addition:\", x + 5)"
   ]
  },
  {
   "cell_type": "code",
   "execution_count": 6,
   "id": "a051619f",
   "metadata": {},
   "outputs": [
    {
     "name": "stdout",
     "output_type": "stream",
     "text": [
      "Subtraction: [-5 -4 -3 -2]\n"
     ]
    }
   ],
   "source": [
    "# Subtraction\n",
    "\n",
    "print(\"Subtraction:\", x-5)"
   ]
  },
  {
   "cell_type": "code",
   "execution_count": 8,
   "id": "e246d0f2",
   "metadata": {},
   "outputs": [
    {
     "name": "stdout",
     "output_type": "stream",
     "text": [
      "Multiply:  [ 0  5 10 15]\n"
     ]
    }
   ],
   "source": [
    "# Multiply\n",
    "\n",
    "print(\"Multiply: \", x*5)"
   ]
  },
  {
   "cell_type": "code",
   "execution_count": 9,
   "id": "4461536d",
   "metadata": {},
   "outputs": [
    {
     "name": "stdout",
     "output_type": "stream",
     "text": [
      "Division:  [0.  0.2 0.4 0.6]\n"
     ]
    }
   ],
   "source": [
    "# Division\n",
    "\n",
    "print(\"Division: \", x/5)"
   ]
  },
  {
   "cell_type": "code",
   "execution_count": 13,
   "id": "d341af00",
   "metadata": {},
   "outputs": [
    {
     "name": "stdout",
     "output_type": "stream",
     "text": [
      "Power/exponential: [0 1 4 9]\n"
     ]
    }
   ],
   "source": [
    "# Power\n",
    "print(\"Power/exponential:\", x**2)"
   ]
  },
  {
   "cell_type": "code",
   "execution_count": 14,
   "id": "77137db6",
   "metadata": {},
   "outputs": [
    {
     "name": "stdout",
     "output_type": "stream",
     "text": [
      "Modulus:  [0 1 0 1]\n"
     ]
    }
   ],
   "source": [
    "# Modulus\n",
    "\n",
    "print(\"Modulus: \", x%2)"
   ]
  },
  {
   "cell_type": "code",
   "execution_count": 15,
   "id": "948a279e",
   "metadata": {},
   "outputs": [
    {
     "data": {
      "text/plain": [
       "array([2, 3, 4, 5])"
      ]
     },
     "execution_count": 15,
     "metadata": {},
     "output_type": "execute_result"
    }
   ],
   "source": [
    "# NumPy Arithmatic operation\n",
    "# Addition\n",
    "np.add(x, 2)"
   ]
  },
  {
   "cell_type": "code",
   "execution_count": 16,
   "id": "860d449a",
   "metadata": {},
   "outputs": [
    {
     "data": {
      "text/plain": [
       "array([-2, -1,  0,  1])"
      ]
     },
     "execution_count": 16,
     "metadata": {},
     "output_type": "execute_result"
    }
   ],
   "source": [
    "# Subtraction\n",
    "\n",
    "np.subtract(x, 2)"
   ]
  },
  {
   "cell_type": "code",
   "execution_count": 17,
   "id": "7d6f9320",
   "metadata": {},
   "outputs": [
    {
     "data": {
      "text/plain": [
       "array([ 0, -1, -2, -3])"
      ]
     },
     "execution_count": 17,
     "metadata": {},
     "output_type": "execute_result"
    }
   ],
   "source": [
    "# Negation of array\n",
    "\n",
    "np.negative(x)"
   ]
  },
  {
   "cell_type": "code",
   "execution_count": 18,
   "id": "c6ce99c3",
   "metadata": {},
   "outputs": [
    {
     "data": {
      "text/plain": [
       "array([ 0,  4,  8, 12])"
      ]
     },
     "execution_count": 18,
     "metadata": {},
     "output_type": "execute_result"
    }
   ],
   "source": [
    "# Multiply\n",
    "\n",
    "np.multiply(x, 4)"
   ]
  },
  {
   "cell_type": "code",
   "execution_count": 19,
   "id": "a4b87f3d",
   "metadata": {},
   "outputs": [
    {
     "data": {
      "text/plain": [
       "array([0. , 0.5, 1. , 1.5])"
      ]
     },
     "execution_count": 19,
     "metadata": {},
     "output_type": "execute_result"
    }
   ],
   "source": [
    "# Divide\n",
    "\n",
    "np.divide(x, 2)"
   ]
  },
  {
   "cell_type": "code",
   "execution_count": 20,
   "id": "25b93a0b",
   "metadata": {},
   "outputs": [
    {
     "data": {
      "text/plain": [
       "array([0, 0, 1, 1], dtype=int32)"
      ]
     },
     "execution_count": 20,
     "metadata": {},
     "output_type": "execute_result"
    }
   ],
   "source": [
    "# floor divide\n",
    "\n",
    "np.floor_divide(x, 2)"
   ]
  },
  {
   "cell_type": "code",
   "execution_count": 21,
   "id": "7b341122",
   "metadata": {},
   "outputs": [
    {
     "data": {
      "text/plain": [
       "array([0, 1, 0, 1], dtype=int32)"
      ]
     },
     "execution_count": 21,
     "metadata": {},
     "output_type": "execute_result"
    }
   ],
   "source": [
    "# Modulus\n",
    "\n",
    "np.mod(x, 2)"
   ]
  },
  {
   "cell_type": "code",
   "execution_count": 22,
   "id": "7229a3c0",
   "metadata": {},
   "outputs": [],
   "source": [
    "x = np.array([-2, -1, 0, 1, 2])"
   ]
  },
  {
   "cell_type": "code",
   "execution_count": 23,
   "id": "2cbc0714",
   "metadata": {},
   "outputs": [
    {
     "data": {
      "text/plain": [
       "array([-2, -1,  0,  1,  2])"
      ]
     },
     "execution_count": 23,
     "metadata": {},
     "output_type": "execute_result"
    }
   ],
   "source": [
    "x"
   ]
  },
  {
   "cell_type": "code",
   "execution_count": 24,
   "id": "79e0d1b7",
   "metadata": {},
   "outputs": [
    {
     "data": {
      "text/plain": [
       "array([2, 1, 0, 1, 2])"
      ]
     },
     "execution_count": 24,
     "metadata": {},
     "output_type": "execute_result"
    }
   ],
   "source": [
    "# Absolute\n",
    "\n",
    "abs(x)"
   ]
  },
  {
   "cell_type": "code",
   "execution_count": 26,
   "id": "0eb15e81",
   "metadata": {},
   "outputs": [
    {
     "name": "stdout",
     "output_type": "stream",
     "text": [
      "Abs: [2 1 0 1 2]\n",
      "Absolute: [2 1 0 1 2]\n"
     ]
    }
   ],
   "source": [
    "print(\"Abs:\", np.abs(x))\n",
    "print(\"Absolute:\", np.absolute(x))"
   ]
  },
  {
   "cell_type": "markdown",
   "id": "76f0120c",
   "metadata": {},
   "source": [
    "# Aggregations: Min, Max and Other"
   ]
  },
  {
   "cell_type": "code",
   "execution_count": 27,
   "id": "100dd62c",
   "metadata": {},
   "outputs": [],
   "source": [
    "L = np.random.random(100)"
   ]
  },
  {
   "cell_type": "code",
   "execution_count": 28,
   "id": "f7d86a40",
   "metadata": {},
   "outputs": [
    {
     "data": {
      "text/plain": [
       "52.17273722101692"
      ]
     },
     "execution_count": 28,
     "metadata": {},
     "output_type": "execute_result"
    }
   ],
   "source": [
    "sum(L) #Python in-built aggregation function"
   ]
  },
  {
   "cell_type": "code",
   "execution_count": 29,
   "id": "fa0a24af",
   "metadata": {},
   "outputs": [
    {
     "data": {
      "text/plain": [
       "52.172737221016895"
      ]
     },
     "execution_count": 29,
     "metadata": {},
     "output_type": "execute_result"
    }
   ],
   "source": [
    "np.sum(L) #Numpy in-built aggregation function"
   ]
  },
  {
   "cell_type": "code",
   "execution_count": 30,
   "id": "c6b380de",
   "metadata": {},
   "outputs": [
    {
     "name": "stdout",
     "output_type": "stream",
     "text": [
      "6.64 µs ± 56.9 ns per loop (mean ± std. dev. of 7 runs, 100,000 loops each)\n",
      "2.76 µs ± 7.57 ns per loop (mean ± std. dev. of 7 runs, 100,000 loops each)\n"
     ]
    }
   ],
   "source": [
    "%timeit sum(L)\n",
    "%timeit np.sum(L)"
   ]
  },
  {
   "cell_type": "code",
   "execution_count": 31,
   "id": "315c0fa5",
   "metadata": {},
   "outputs": [],
   "source": [
    "big_array = np.random.random(1000000)"
   ]
  },
  {
   "cell_type": "code",
   "execution_count": 32,
   "id": "da734631",
   "metadata": {},
   "outputs": [
    {
     "name": "stdout",
     "output_type": "stream",
     "text": [
      "54.8 ms ± 122 µs per loop (mean ± std. dev. of 7 runs, 10 loops each)\n",
      "349 µs ± 6.75 µs per loop (mean ± std. dev. of 7 runs, 1,000 loops each)\n"
     ]
    }
   ],
   "source": [
    "%timeit sum(big_array)\n",
    "%timeit np.sum(big_array)"
   ]
  },
  {
   "cell_type": "code",
   "execution_count": 33,
   "id": "b2b992ff",
   "metadata": {},
   "outputs": [
    {
     "name": "stdout",
     "output_type": "stream",
     "text": [
      "0.01559934505695959\n",
      "0.987579448128065\n"
     ]
    }
   ],
   "source": [
    "#Python in-built min and max\n",
    "\n",
    "print(min(L))\n",
    "print(max(L))"
   ]
  },
  {
   "cell_type": "code",
   "execution_count": 34,
   "id": "11a126e5",
   "metadata": {},
   "outputs": [
    {
     "name": "stdout",
     "output_type": "stream",
     "text": [
      "0.01559934505695959\n",
      "0.987579448128065\n"
     ]
    }
   ],
   "source": [
    "# Numpy in-built min and max\n",
    "\n",
    "print(np.min(L))\n",
    "print(np.max(L))"
   ]
  },
  {
   "cell_type": "code",
   "execution_count": 35,
   "id": "695e14f4",
   "metadata": {},
   "outputs": [
    {
     "name": "stdout",
     "output_type": "stream",
     "text": [
      "7.878817986917142e-08 0.9999963429854416 499405.88695242745\n"
     ]
    }
   ],
   "source": [
    "# NumPy aggregates short syntax\n",
    "\n",
    "print(big_array.min(), big_array.max(), big_array.sum())"
   ]
  },
  {
   "cell_type": "markdown",
   "id": "0f791ddb",
   "metadata": {},
   "source": [
    "# Multi-dimensional aggregates\n",
    "- Aggregation against rows or columns"
   ]
  },
  {
   "cell_type": "code",
   "execution_count": 36,
   "id": "f95007f4",
   "metadata": {},
   "outputs": [],
   "source": [
    "M = np.random.random((3,4))"
   ]
  },
  {
   "cell_type": "code",
   "execution_count": 37,
   "id": "a9698876",
   "metadata": {},
   "outputs": [
    {
     "data": {
      "text/plain": [
       "array([[0.97987918, 0.69789217, 0.97812341, 0.66392729],\n",
       "       [0.56935697, 0.09413005, 0.70346412, 0.86695607],\n",
       "       [0.07012882, 0.36246085, 0.96182725, 0.64959436]])"
      ]
     },
     "execution_count": 37,
     "metadata": {},
     "output_type": "execute_result"
    }
   ],
   "source": [
    "M"
   ]
  },
  {
   "cell_type": "code",
   "execution_count": 38,
   "id": "6734fad9",
   "metadata": {},
   "outputs": [
    {
     "data": {
      "text/plain": [
       "array([1.61936497, 1.15448307, 2.64341479, 2.18047772])"
      ]
     },
     "execution_count": 38,
     "metadata": {},
     "output_type": "execute_result"
    }
   ],
   "source": [
    "sum(M)"
   ]
  },
  {
   "cell_type": "code",
   "execution_count": 39,
   "id": "0a296210",
   "metadata": {},
   "outputs": [
    {
     "data": {
      "text/plain": [
       "7.597740552044026"
      ]
     },
     "execution_count": 39,
     "metadata": {},
     "output_type": "execute_result"
    }
   ],
   "source": [
    "M.sum()"
   ]
  },
  {
   "cell_type": "code",
   "execution_count": 42,
   "id": "f9a952b0",
   "metadata": {},
   "outputs": [
    {
     "data": {
      "text/plain": [
       "array([[0.97987918, 0.69789217, 0.97812341, 0.66392729],\n",
       "       [0.56935697, 0.09413005, 0.70346412, 0.86695607],\n",
       "       [0.07012882, 0.36246085, 0.96182725, 0.64959436]])"
      ]
     },
     "execution_count": 42,
     "metadata": {},
     "output_type": "execute_result"
    }
   ],
   "source": [
    "M"
   ]
  },
  {
   "cell_type": "code",
   "execution_count": 40,
   "id": "96ccc474",
   "metadata": {},
   "outputs": [
    {
     "data": {
      "text/plain": [
       "array([0.07012882, 0.09413005, 0.70346412, 0.64959436])"
      ]
     },
     "execution_count": 40,
     "metadata": {},
     "output_type": "execute_result"
    }
   ],
   "source": [
    "M.min(axis=0) #min number column wise"
   ]
  },
  {
   "cell_type": "code",
   "execution_count": 41,
   "id": "5f3bed67",
   "metadata": {},
   "outputs": [
    {
     "data": {
      "text/plain": [
       "array([0.97987918, 0.86695607, 0.96182725])"
      ]
     },
     "execution_count": 41,
     "metadata": {},
     "output_type": "execute_result"
    }
   ],
   "source": [
    "M.max(axis=1) #max number row wise"
   ]
  },
  {
   "cell_type": "markdown",
   "id": "8e85fa53",
   "metadata": {},
   "source": [
    "# Broadcasting"
   ]
  },
  {
   "cell_type": "code",
   "execution_count": 43,
   "id": "a0227129",
   "metadata": {},
   "outputs": [],
   "source": [
    "a = np.array([1,2,3])\n",
    "b = np.array([4,5,6])"
   ]
  },
  {
   "cell_type": "code",
   "execution_count": 44,
   "id": "d1edbd99",
   "metadata": {},
   "outputs": [
    {
     "data": {
      "text/plain": [
       "array([5, 7, 9])"
      ]
     },
     "execution_count": 44,
     "metadata": {},
     "output_type": "execute_result"
    }
   ],
   "source": [
    "a + b"
   ]
  },
  {
   "cell_type": "markdown",
   "id": "62c054d6",
   "metadata": {},
   "source": [
    "- Additon of scalar value"
   ]
  },
  {
   "cell_type": "code",
   "execution_count": 45,
   "id": "fc769baf",
   "metadata": {},
   "outputs": [
    {
     "data": {
      "text/plain": [
       "array([6, 7, 8])"
      ]
     },
     "execution_count": 45,
     "metadata": {},
     "output_type": "execute_result"
    }
   ],
   "source": [
    "a + 5"
   ]
  },
  {
   "cell_type": "markdown",
   "id": "293c99bd",
   "metadata": {},
   "source": [
    "- Broadcasting single array"
   ]
  },
  {
   "cell_type": "code",
   "execution_count": 46,
   "id": "8d9b0cb0",
   "metadata": {},
   "outputs": [],
   "source": [
    "M = np.ones((3,3))"
   ]
  },
  {
   "cell_type": "code",
   "execution_count": 47,
   "id": "24a02a36",
   "metadata": {},
   "outputs": [
    {
     "data": {
      "text/plain": [
       "array([[1., 1., 1.],\n",
       "       [1., 1., 1.],\n",
       "       [1., 1., 1.]])"
      ]
     },
     "execution_count": 47,
     "metadata": {},
     "output_type": "execute_result"
    }
   ],
   "source": [
    "M"
   ]
  },
  {
   "cell_type": "code",
   "execution_count": 48,
   "id": "6ff6db27",
   "metadata": {},
   "outputs": [
    {
     "data": {
      "text/plain": [
       "array([1, 2, 3])"
      ]
     },
     "execution_count": 48,
     "metadata": {},
     "output_type": "execute_result"
    }
   ],
   "source": [
    "a"
   ]
  },
  {
   "cell_type": "code",
   "execution_count": 49,
   "id": "74a20246",
   "metadata": {},
   "outputs": [
    {
     "data": {
      "text/plain": [
       "(3, 3)"
      ]
     },
     "execution_count": 49,
     "metadata": {},
     "output_type": "execute_result"
    }
   ],
   "source": [
    "M.shape"
   ]
  },
  {
   "cell_type": "code",
   "execution_count": 50,
   "id": "bc16bf45",
   "metadata": {},
   "outputs": [
    {
     "data": {
      "text/plain": [
       "(3,)"
      ]
     },
     "execution_count": 50,
     "metadata": {},
     "output_type": "execute_result"
    }
   ],
   "source": [
    "a.shape"
   ]
  },
  {
   "cell_type": "code",
   "execution_count": 51,
   "id": "90346c88",
   "metadata": {},
   "outputs": [
    {
     "data": {
      "text/plain": [
       "array([[2., 3., 4.],\n",
       "       [2., 3., 4.],\n",
       "       [2., 3., 4.]])"
      ]
     },
     "execution_count": 51,
     "metadata": {},
     "output_type": "execute_result"
    }
   ],
   "source": [
    "M + a "
   ]
  },
  {
   "cell_type": "markdown",
   "id": "1af53ac7",
   "metadata": {},
   "source": [
    "- Broadcasting of both arrays"
   ]
  },
  {
   "cell_type": "code",
   "execution_count": 52,
   "id": "5e70685b",
   "metadata": {},
   "outputs": [],
   "source": [
    "a = np.arange(3)\n",
    "b = np.arange(3)[:,np.newaxis]"
   ]
  },
  {
   "cell_type": "code",
   "execution_count": 53,
   "id": "83bc92eb",
   "metadata": {},
   "outputs": [
    {
     "name": "stdout",
     "output_type": "stream",
     "text": [
      "(3,)\n",
      "(3, 1)\n"
     ]
    }
   ],
   "source": [
    "print(a.shape)\n",
    "print(b.shape)\n"
   ]
  },
  {
   "cell_type": "code",
   "execution_count": 55,
   "id": "90d55182",
   "metadata": {},
   "outputs": [
    {
     "name": "stdout",
     "output_type": "stream",
     "text": [
      "[0 1 2]\n",
      "[[0]\n",
      " [1]\n",
      " [2]]\n"
     ]
    }
   ],
   "source": [
    "print(a)\n",
    "print(b)"
   ]
  },
  {
   "cell_type": "code",
   "execution_count": 54,
   "id": "35cf2a99",
   "metadata": {},
   "outputs": [
    {
     "data": {
      "text/plain": [
       "array([[0, 1, 2],\n",
       "       [1, 2, 3],\n",
       "       [2, 3, 4]])"
      ]
     },
     "execution_count": 54,
     "metadata": {},
     "output_type": "execute_result"
    }
   ],
   "source": [
    "a + b"
   ]
  },
  {
   "cell_type": "code",
   "execution_count": 56,
   "id": "82e98d43",
   "metadata": {},
   "outputs": [],
   "source": [
    "# Broadcasting of imncompatible array\n",
    "\n",
    "M = np.ones((3,2))\n",
    "a = np.arange(3)"
   ]
  },
  {
   "cell_type": "code",
   "execution_count": 57,
   "id": "9db88d04",
   "metadata": {},
   "outputs": [
    {
     "name": "stdout",
     "output_type": "stream",
     "text": [
      "(3, 2)\n",
      "(3,)\n"
     ]
    }
   ],
   "source": [
    "print(M.shape)\n",
    "print(a.shape)"
   ]
  },
  {
   "cell_type": "code",
   "execution_count": 58,
   "id": "88f0d11d",
   "metadata": {},
   "outputs": [
    {
     "ename": "ValueError",
     "evalue": "operands could not be broadcast together with shapes (3,2) (3,) ",
     "output_type": "error",
     "traceback": [
      "\u001b[1;31m---------------------------------------------------------------------------\u001b[0m",
      "\u001b[1;31mValueError\u001b[0m                                Traceback (most recent call last)",
      "Input \u001b[1;32mIn [58]\u001b[0m, in \u001b[0;36m<cell line: 1>\u001b[1;34m()\u001b[0m\n\u001b[1;32m----> 1\u001b[0m \u001b[43mM\u001b[49m\u001b[43m \u001b[49m\u001b[38;5;241;43m+\u001b[39;49m\u001b[43m \u001b[49m\u001b[43ma\u001b[49m\n",
      "\u001b[1;31mValueError\u001b[0m: operands could not be broadcast together with shapes (3,2) (3,) "
     ]
    }
   ],
   "source": [
    "M + a "
   ]
  },
  {
   "cell_type": "code",
   "execution_count": 59,
   "id": "2f7e9316",
   "metadata": {},
   "outputs": [
    {
     "data": {
      "text/plain": [
       "(3, 1)"
      ]
     },
     "execution_count": 59,
     "metadata": {},
     "output_type": "execute_result"
    }
   ],
   "source": [
    "a[:,np.newaxis].shape"
   ]
  },
  {
   "cell_type": "code",
   "execution_count": 60,
   "id": "6769be03",
   "metadata": {},
   "outputs": [
    {
     "data": {
      "text/plain": [
       "array([[1., 1.],\n",
       "       [2., 2.],\n",
       "       [3., 3.]])"
      ]
     },
     "execution_count": 60,
     "metadata": {},
     "output_type": "execute_result"
    }
   ],
   "source": [
    "M + a[:, np.newaxis]"
   ]
  },
  {
   "cell_type": "markdown",
   "id": "0e47eba9",
   "metadata": {},
   "source": [
    "# Comparisons, Masks, and Boolean Logic"
   ]
  },
  {
   "cell_type": "markdown",
   "id": "d113abf5",
   "metadata": {},
   "source": [
    "- Comparison operators\n",
    "\n",
    "1. less than <\n",
    "2. greater than >\n",
    "3. less than equal <=\n",
    "4. greater than equal >=\n",
    "5. not equal !=\n",
    "6. equal =="
   ]
  },
  {
   "cell_type": "code",
   "execution_count": 63,
   "id": "ac2bf543",
   "metadata": {},
   "outputs": [],
   "source": [
    "x = np.array([1,2,3,4,5,6])"
   ]
  },
  {
   "cell_type": "code",
   "execution_count": 64,
   "id": "f8768e67",
   "metadata": {},
   "outputs": [
    {
     "data": {
      "text/plain": [
       "array([1, 2, 3, 4, 5, 6])"
      ]
     },
     "execution_count": 64,
     "metadata": {},
     "output_type": "execute_result"
    }
   ],
   "source": [
    "x"
   ]
  },
  {
   "cell_type": "code",
   "execution_count": 65,
   "id": "05a49963",
   "metadata": {},
   "outputs": [
    {
     "name": "stdout",
     "output_type": "stream",
     "text": [
      "[ True  True False False False False]\n"
     ]
    }
   ],
   "source": [
    "print(x<3) #less than"
   ]
  },
  {
   "cell_type": "code",
   "execution_count": 66,
   "id": "cc96d50c",
   "metadata": {},
   "outputs": [
    {
     "data": {
      "text/plain": [
       "array([ True,  True, False, False, False, False])"
      ]
     },
     "execution_count": 66,
     "metadata": {},
     "output_type": "execute_result"
    }
   ],
   "source": [
    "np.less(x, 3)"
   ]
  },
  {
   "cell_type": "code",
   "execution_count": 68,
   "id": "3e481c4b",
   "metadata": {},
   "outputs": [
    {
     "name": "stdout",
     "output_type": "stream",
     "text": [
      "Python greater:  [False False False  True  True  True]\n",
      "NumPy greater:  [False False False  True  True  True]\n"
     ]
    }
   ],
   "source": [
    "# greater than\n",
    "\n",
    "print(\"Python greater: \", x>3)\n",
    "print(\"NumPy greater: \", np.greater(x,3))"
   ]
  },
  {
   "cell_type": "code",
   "execution_count": 69,
   "id": "c56213cf",
   "metadata": {},
   "outputs": [
    {
     "name": "stdout",
     "output_type": "stream",
     "text": [
      "Python less than equal: [ True  True  True False False False]\n",
      "NumPy less than equal: [ True  True  True False False False]\n"
     ]
    }
   ],
   "source": [
    "# less than equal\n",
    "\n",
    "print(\"Python less than equal:\", x<=3)\n",
    "print(\"NumPy less than equal:\", np.less_equal(x,3))\n"
   ]
  },
  {
   "cell_type": "code",
   "execution_count": 70,
   "id": "60439cb3",
   "metadata": {},
   "outputs": [
    {
     "name": "stdout",
     "output_type": "stream",
     "text": [
      "Python greater than equal: [False False  True  True  True  True]\n",
      "NumPy greater than equal: [False False  True  True  True  True]\n"
     ]
    }
   ],
   "source": [
    "# greater than equal\n",
    "print(\"Python greater than equal:\", x>=3)\n",
    "print(\"NumPy greater than equal:\", np.greater_equal(x,3))"
   ]
  },
  {
   "cell_type": "markdown",
   "id": "45fe455a",
   "metadata": {},
   "source": [
    "- Two-dimensional array"
   ]
  },
  {
   "cell_type": "code",
   "execution_count": 74,
   "id": "74fe401e",
   "metadata": {},
   "outputs": [],
   "source": [
    "rng = np.random.RandomState(0)\n",
    "\n",
    "x = rng.randint(10, size=(3,4))"
   ]
  },
  {
   "cell_type": "code",
   "execution_count": 75,
   "id": "f38fcff4",
   "metadata": {},
   "outputs": [
    {
     "data": {
      "text/plain": [
       "array([[5, 0, 3, 3],\n",
       "       [7, 9, 3, 5],\n",
       "       [2, 4, 7, 6]])"
      ]
     },
     "execution_count": 75,
     "metadata": {},
     "output_type": "execute_result"
    }
   ],
   "source": [
    "x"
   ]
  },
  {
   "cell_type": "code",
   "execution_count": 76,
   "id": "2d38f461",
   "metadata": {},
   "outputs": [
    {
     "data": {
      "text/plain": [
       "array([[ True,  True,  True,  True],\n",
       "       [False, False,  True,  True],\n",
       "       [ True,  True, False, False]])"
      ]
     },
     "execution_count": 76,
     "metadata": {},
     "output_type": "execute_result"
    }
   ],
   "source": [
    "x<6"
   ]
  },
  {
   "cell_type": "code",
   "execution_count": 77,
   "id": "aa684f39",
   "metadata": {},
   "outputs": [
    {
     "name": "stdout",
     "output_type": "stream",
     "text": [
      "[[5 0 3 3]\n",
      " [7 9 3 5]\n",
      " [2 4 7 6]]\n"
     ]
    }
   ],
   "source": [
    "print(x)"
   ]
  },
  {
   "cell_type": "code",
   "execution_count": 78,
   "id": "3cf932f1",
   "metadata": {},
   "outputs": [
    {
     "data": {
      "text/plain": [
       "8"
      ]
     },
     "execution_count": 78,
     "metadata": {},
     "output_type": "execute_result"
    }
   ],
   "source": [
    "np.count_nonzero(x<6)"
   ]
  },
  {
   "cell_type": "code",
   "execution_count": 79,
   "id": "5d81eae9",
   "metadata": {},
   "outputs": [
    {
     "data": {
      "text/plain": [
       "8"
      ]
     },
     "execution_count": 79,
     "metadata": {},
     "output_type": "execute_result"
    }
   ],
   "source": [
    "np.sum(x<6)"
   ]
  },
  {
   "cell_type": "code",
   "execution_count": 80,
   "id": "1c951677",
   "metadata": {},
   "outputs": [
    {
     "data": {
      "text/plain": [
       "array([4, 2, 2])"
      ]
     },
     "execution_count": 80,
     "metadata": {},
     "output_type": "execute_result"
    }
   ],
   "source": [
    "np.sum(x<6, axis=1) # values in each row with less than 6"
   ]
  },
  {
   "cell_type": "code",
   "execution_count": 81,
   "id": "e10bf014",
   "metadata": {},
   "outputs": [
    {
     "data": {
      "text/plain": [
       "array([2, 2, 2, 2])"
      ]
     },
     "execution_count": 81,
     "metadata": {},
     "output_type": "execute_result"
    }
   ],
   "source": [
    "np.sum(x<6, axis=0) #values in each column with less than 6"
   ]
  },
  {
   "cell_type": "code",
   "execution_count": 82,
   "id": "a98e0ce0",
   "metadata": {},
   "outputs": [
    {
     "name": "stdout",
     "output_type": "stream",
     "text": [
      "[[5 0 3 3]\n",
      " [7 9 3 5]\n",
      " [2 4 7 6]]\n"
     ]
    }
   ],
   "source": [
    "print(x)"
   ]
  },
  {
   "cell_type": "code",
   "execution_count": 83,
   "id": "abc59be7",
   "metadata": {},
   "outputs": [
    {
     "data": {
      "text/plain": [
       "True"
      ]
     },
     "execution_count": 83,
     "metadata": {},
     "output_type": "execute_result"
    }
   ],
   "source": [
    "np.any(x>8)"
   ]
  },
  {
   "cell_type": "code",
   "execution_count": 84,
   "id": "47d81851",
   "metadata": {},
   "outputs": [
    {
     "data": {
      "text/plain": [
       "False"
      ]
     },
     "execution_count": 84,
     "metadata": {},
     "output_type": "execute_result"
    }
   ],
   "source": [
    "np.any(x<0)"
   ]
  },
  {
   "cell_type": "code",
   "execution_count": 85,
   "id": "e98bfe77",
   "metadata": {},
   "outputs": [
    {
     "data": {
      "text/plain": [
       "array([ True, False,  True])"
      ]
     },
     "execution_count": 85,
     "metadata": {},
     "output_type": "execute_result"
    }
   ],
   "source": [
    "np.all(x<8, axis=1)"
   ]
  },
  {
   "cell_type": "markdown",
   "id": "875caddd",
   "metadata": {},
   "source": [
    "# Example: Seattle Rainfall"
   ]
  },
  {
   "cell_type": "code",
   "execution_count": 1,
   "id": "ab417b7f",
   "metadata": {},
   "outputs": [],
   "source": [
    "import pandas as pd"
   ]
  },
  {
   "cell_type": "code",
   "execution_count": 2,
   "id": "f8e11383",
   "metadata": {},
   "outputs": [],
   "source": [
    "df = pd.read_csv(r\"seattle-weather.csv\", encoding='utf8', engine='python')"
   ]
  },
  {
   "cell_type": "code",
   "execution_count": 3,
   "id": "22c9d6f3",
   "metadata": {},
   "outputs": [
    {
     "data": {
      "text/html": [
       "<div>\n",
       "<style scoped>\n",
       "    .dataframe tbody tr th:only-of-type {\n",
       "        vertical-align: middle;\n",
       "    }\n",
       "\n",
       "    .dataframe tbody tr th {\n",
       "        vertical-align: top;\n",
       "    }\n",
       "\n",
       "    .dataframe thead th {\n",
       "        text-align: right;\n",
       "    }\n",
       "</style>\n",
       "<table border=\"1\" class=\"dataframe\">\n",
       "  <thead>\n",
       "    <tr style=\"text-align: right;\">\n",
       "      <th></th>\n",
       "      <th>date</th>\n",
       "      <th>precipitation</th>\n",
       "      <th>temp_max</th>\n",
       "      <th>temp_min</th>\n",
       "      <th>wind</th>\n",
       "      <th>weather</th>\n",
       "    </tr>\n",
       "  </thead>\n",
       "  <tbody>\n",
       "    <tr>\n",
       "      <th>0</th>\n",
       "      <td>2012/1/1</td>\n",
       "      <td>0.0</td>\n",
       "      <td>12.8</td>\n",
       "      <td>5.0</td>\n",
       "      <td>4.7</td>\n",
       "      <td>drizzle</td>\n",
       "    </tr>\n",
       "    <tr>\n",
       "      <th>1</th>\n",
       "      <td>2012/1/2</td>\n",
       "      <td>10.9</td>\n",
       "      <td>10.6</td>\n",
       "      <td>2.8</td>\n",
       "      <td>4.5</td>\n",
       "      <td>rain</td>\n",
       "    </tr>\n",
       "    <tr>\n",
       "      <th>2</th>\n",
       "      <td>2012/1/3</td>\n",
       "      <td>0.8</td>\n",
       "      <td>11.7</td>\n",
       "      <td>7.2</td>\n",
       "      <td>2.3</td>\n",
       "      <td>rain</td>\n",
       "    </tr>\n",
       "    <tr>\n",
       "      <th>3</th>\n",
       "      <td>2012/1/4</td>\n",
       "      <td>20.3</td>\n",
       "      <td>12.2</td>\n",
       "      <td>5.6</td>\n",
       "      <td>4.7</td>\n",
       "      <td>rain</td>\n",
       "    </tr>\n",
       "    <tr>\n",
       "      <th>4</th>\n",
       "      <td>2012/1/5</td>\n",
       "      <td>1.3</td>\n",
       "      <td>8.9</td>\n",
       "      <td>2.8</td>\n",
       "      <td>6.1</td>\n",
       "      <td>rain</td>\n",
       "    </tr>\n",
       "    <tr>\n",
       "      <th>...</th>\n",
       "      <td>...</td>\n",
       "      <td>...</td>\n",
       "      <td>...</td>\n",
       "      <td>...</td>\n",
       "      <td>...</td>\n",
       "      <td>...</td>\n",
       "    </tr>\n",
       "    <tr>\n",
       "      <th>1456</th>\n",
       "      <td>2015/12/27</td>\n",
       "      <td>8.6</td>\n",
       "      <td>4.4</td>\n",
       "      <td>1.7</td>\n",
       "      <td>2.9</td>\n",
       "      <td>fog</td>\n",
       "    </tr>\n",
       "    <tr>\n",
       "      <th>1457</th>\n",
       "      <td>2015/12/28</td>\n",
       "      <td>1.5</td>\n",
       "      <td>5.0</td>\n",
       "      <td>1.7</td>\n",
       "      <td>1.3</td>\n",
       "      <td>fog</td>\n",
       "    </tr>\n",
       "    <tr>\n",
       "      <th>1458</th>\n",
       "      <td>2015/12/29</td>\n",
       "      <td>0.0</td>\n",
       "      <td>7.2</td>\n",
       "      <td>0.6</td>\n",
       "      <td>2.6</td>\n",
       "      <td>fog</td>\n",
       "    </tr>\n",
       "    <tr>\n",
       "      <th>1459</th>\n",
       "      <td>2015/12/30</td>\n",
       "      <td>0.0</td>\n",
       "      <td>5.6</td>\n",
       "      <td>-1.0</td>\n",
       "      <td>3.4</td>\n",
       "      <td>sun</td>\n",
       "    </tr>\n",
       "    <tr>\n",
       "      <th>1460</th>\n",
       "      <td>2015/12/31</td>\n",
       "      <td>0.0</td>\n",
       "      <td>5.6</td>\n",
       "      <td>-2.1</td>\n",
       "      <td>3.5</td>\n",
       "      <td>sun</td>\n",
       "    </tr>\n",
       "  </tbody>\n",
       "</table>\n",
       "<p>1461 rows × 6 columns</p>\n",
       "</div>"
      ],
      "text/plain": [
       "            date  precipitation  temp_max  temp_min  wind  weather\n",
       "0       2012/1/1            0.0      12.8       5.0   4.7  drizzle\n",
       "1       2012/1/2           10.9      10.6       2.8   4.5     rain\n",
       "2       2012/1/3            0.8      11.7       7.2   2.3     rain\n",
       "3       2012/1/4           20.3      12.2       5.6   4.7     rain\n",
       "4       2012/1/5            1.3       8.9       2.8   6.1     rain\n",
       "...          ...            ...       ...       ...   ...      ...\n",
       "1456  2015/12/27            8.6       4.4       1.7   2.9      fog\n",
       "1457  2015/12/28            1.5       5.0       1.7   1.3      fog\n",
       "1458  2015/12/29            0.0       7.2       0.6   2.6      fog\n",
       "1459  2015/12/30            0.0       5.6      -1.0   3.4      sun\n",
       "1460  2015/12/31            0.0       5.6      -2.1   3.5      sun\n",
       "\n",
       "[1461 rows x 6 columns]"
      ]
     },
     "execution_count": 3,
     "metadata": {},
     "output_type": "execute_result"
    }
   ],
   "source": [
    "df"
   ]
  },
  {
   "cell_type": "code",
   "execution_count": 97,
   "id": "4ae6afe0",
   "metadata": {},
   "outputs": [
    {
     "data": {
      "text/plain": [
       "0        0.0\n",
       "1       10.9\n",
       "2        0.8\n",
       "3       20.3\n",
       "4        1.3\n",
       "        ... \n",
       "1456     8.6\n",
       "1457     1.5\n",
       "1458     0.0\n",
       "1459     0.0\n",
       "1460     0.0\n",
       "Name: precipitation, Length: 1461, dtype: float64"
      ]
     },
     "execution_count": 97,
     "metadata": {},
     "output_type": "execute_result"
    }
   ],
   "source": [
    "df['precipitation']"
   ]
  },
  {
   "cell_type": "code",
   "execution_count": 98,
   "id": "207ac19b",
   "metadata": {},
   "outputs": [
    {
     "data": {
      "text/plain": [
       "838"
      ]
     },
     "execution_count": 98,
     "metadata": {},
     "output_type": "execute_result"
    }
   ],
   "source": [
    "# Days without rain\n",
    "\n",
    "np.sum(df['precipitation']==0)"
   ]
  },
  {
   "cell_type": "code",
   "execution_count": 99,
   "id": "1778c9c2",
   "metadata": {},
   "outputs": [
    {
     "data": {
      "text/plain": [
       "623"
      ]
     },
     "execution_count": 99,
     "metadata": {},
     "output_type": "execute_result"
    }
   ],
   "source": [
    "# Number of days with rain\n",
    "\n",
    "np.sum(df['precipitation']!=0)"
   ]
  },
  {
   "cell_type": "code",
   "execution_count": 100,
   "id": "ea14c13f",
   "metadata": {},
   "outputs": [
    {
     "data": {
      "text/plain": [
       "0        0.0\n",
       "1       10.9\n",
       "2        0.8\n",
       "3       20.3\n",
       "4        1.3\n",
       "        ... \n",
       "1456     8.6\n",
       "1457     1.5\n",
       "1458     0.0\n",
       "1459     0.0\n",
       "1460     0.0\n",
       "Name: precipitation, Length: 1461, dtype: float64"
      ]
     },
     "execution_count": 100,
     "metadata": {},
     "output_type": "execute_result"
    }
   ],
   "source": [
    "df['precipitation']"
   ]
  },
  {
   "cell_type": "markdown",
   "id": "5994a4d7",
   "metadata": {},
   "source": [
    "# Boolean Operator"
   ]
  },
  {
   "cell_type": "markdown",
   "id": "db7fcc6f",
   "metadata": {},
   "source": [
    "- & bitwise_and\n",
    "- | bitwise_or\n",
    "- ~ bitwise_not"
   ]
  },
  {
   "cell_type": "code",
   "execution_count": 104,
   "id": "5d673fb8",
   "metadata": {},
   "outputs": [],
   "source": [
    "# All rainy days will less than 15mm and greater than 0mm"
   ]
  },
  {
   "cell_type": "code",
   "execution_count": 107,
   "id": "dbcfa7fb",
   "metadata": {},
   "outputs": [
    {
     "data": {
      "text/plain": [
       "533"
      ]
     },
     "execution_count": 107,
     "metadata": {},
     "output_type": "execute_result"
    }
   ],
   "source": [
    "np.sum((df['precipitation']<15) & (df['precipitation']>0))"
   ]
  },
  {
   "cell_type": "markdown",
   "id": "d1b5b616",
   "metadata": {},
   "source": [
    "# Boolean Arrays as Masks"
   ]
  },
  {
   "cell_type": "code",
   "execution_count": 108,
   "id": "ae374e25",
   "metadata": {},
   "outputs": [
    {
     "data": {
      "text/plain": [
       "array([[5, 0, 3, 3],\n",
       "       [7, 9, 3, 5],\n",
       "       [2, 4, 7, 6]])"
      ]
     },
     "execution_count": 108,
     "metadata": {},
     "output_type": "execute_result"
    }
   ],
   "source": [
    "x"
   ]
  },
  {
   "cell_type": "code",
   "execution_count": 109,
   "id": "64242a20",
   "metadata": {},
   "outputs": [
    {
     "data": {
      "text/plain": [
       "array([[False,  True,  True,  True],\n",
       "       [False, False,  True, False],\n",
       "       [ True,  True, False, False]])"
      ]
     },
     "execution_count": 109,
     "metadata": {},
     "output_type": "execute_result"
    }
   ],
   "source": [
    "x<5"
   ]
  },
  {
   "cell_type": "code",
   "execution_count": 110,
   "id": "ec0a6488",
   "metadata": {},
   "outputs": [
    {
     "data": {
      "text/plain": [
       "array([0, 3, 3, 3, 2, 4])"
      ]
     },
     "execution_count": 110,
     "metadata": {},
     "output_type": "execute_result"
    }
   ],
   "source": [
    "x[x<5]"
   ]
  },
  {
   "cell_type": "code",
   "execution_count": 111,
   "id": "089ff7bc",
   "metadata": {},
   "outputs": [],
   "source": [
    "# Construct a mask on all rainy days\n",
    "\n",
    "rain = df['precipitation']>0"
   ]
  },
  {
   "cell_type": "code",
   "execution_count": 112,
   "id": "4863d21a",
   "metadata": {},
   "outputs": [
    {
     "data": {
      "text/plain": [
       "0       False\n",
       "1        True\n",
       "2        True\n",
       "3        True\n",
       "4        True\n",
       "        ...  \n",
       "1456     True\n",
       "1457     True\n",
       "1458    False\n",
       "1459    False\n",
       "1460    False\n",
       "Name: precipitation, Length: 1461, dtype: bool"
      ]
     },
     "execution_count": 112,
     "metadata": {},
     "output_type": "execute_result"
    }
   ],
   "source": [
    "rain"
   ]
  },
  {
   "cell_type": "code",
   "execution_count": 113,
   "id": "0f41b00f",
   "metadata": {},
   "outputs": [
    {
     "data": {
      "text/plain": [
       "1       10.9\n",
       "2        0.8\n",
       "3       20.3\n",
       "4        1.3\n",
       "5        2.5\n",
       "        ... \n",
       "1452     6.1\n",
       "1453     2.5\n",
       "1454     5.8\n",
       "1456     8.6\n",
       "1457     1.5\n",
       "Name: precipitation, Length: 623, dtype: float64"
      ]
     },
     "execution_count": 113,
     "metadata": {},
     "output_type": "execute_result"
    }
   ],
   "source": [
    "df['precipitation'][rain]"
   ]
  },
  {
   "cell_type": "code",
   "execution_count": 4,
   "id": "04c6faad",
   "metadata": {},
   "outputs": [],
   "source": [
    "df['year'] = pd.DatetimeIndex(df['date']).year"
   ]
  },
  {
   "cell_type": "code",
   "execution_count": 5,
   "id": "33bf4f90",
   "metadata": {},
   "outputs": [
    {
     "data": {
      "text/html": [
       "<div>\n",
       "<style scoped>\n",
       "    .dataframe tbody tr th:only-of-type {\n",
       "        vertical-align: middle;\n",
       "    }\n",
       "\n",
       "    .dataframe tbody tr th {\n",
       "        vertical-align: top;\n",
       "    }\n",
       "\n",
       "    .dataframe thead th {\n",
       "        text-align: right;\n",
       "    }\n",
       "</style>\n",
       "<table border=\"1\" class=\"dataframe\">\n",
       "  <thead>\n",
       "    <tr style=\"text-align: right;\">\n",
       "      <th></th>\n",
       "      <th>date</th>\n",
       "      <th>precipitation</th>\n",
       "      <th>temp_max</th>\n",
       "      <th>temp_min</th>\n",
       "      <th>wind</th>\n",
       "      <th>weather</th>\n",
       "      <th>year</th>\n",
       "    </tr>\n",
       "  </thead>\n",
       "  <tbody>\n",
       "    <tr>\n",
       "      <th>0</th>\n",
       "      <td>2012/1/1</td>\n",
       "      <td>0.0</td>\n",
       "      <td>12.8</td>\n",
       "      <td>5.0</td>\n",
       "      <td>4.7</td>\n",
       "      <td>drizzle</td>\n",
       "      <td>2012</td>\n",
       "    </tr>\n",
       "    <tr>\n",
       "      <th>1</th>\n",
       "      <td>2012/1/2</td>\n",
       "      <td>10.9</td>\n",
       "      <td>10.6</td>\n",
       "      <td>2.8</td>\n",
       "      <td>4.5</td>\n",
       "      <td>rain</td>\n",
       "      <td>2012</td>\n",
       "    </tr>\n",
       "    <tr>\n",
       "      <th>2</th>\n",
       "      <td>2012/1/3</td>\n",
       "      <td>0.8</td>\n",
       "      <td>11.7</td>\n",
       "      <td>7.2</td>\n",
       "      <td>2.3</td>\n",
       "      <td>rain</td>\n",
       "      <td>2012</td>\n",
       "    </tr>\n",
       "    <tr>\n",
       "      <th>3</th>\n",
       "      <td>2012/1/4</td>\n",
       "      <td>20.3</td>\n",
       "      <td>12.2</td>\n",
       "      <td>5.6</td>\n",
       "      <td>4.7</td>\n",
       "      <td>rain</td>\n",
       "      <td>2012</td>\n",
       "    </tr>\n",
       "    <tr>\n",
       "      <th>4</th>\n",
       "      <td>2012/1/5</td>\n",
       "      <td>1.3</td>\n",
       "      <td>8.9</td>\n",
       "      <td>2.8</td>\n",
       "      <td>6.1</td>\n",
       "      <td>rain</td>\n",
       "      <td>2012</td>\n",
       "    </tr>\n",
       "    <tr>\n",
       "      <th>...</th>\n",
       "      <td>...</td>\n",
       "      <td>...</td>\n",
       "      <td>...</td>\n",
       "      <td>...</td>\n",
       "      <td>...</td>\n",
       "      <td>...</td>\n",
       "      <td>...</td>\n",
       "    </tr>\n",
       "    <tr>\n",
       "      <th>1456</th>\n",
       "      <td>2015/12/27</td>\n",
       "      <td>8.6</td>\n",
       "      <td>4.4</td>\n",
       "      <td>1.7</td>\n",
       "      <td>2.9</td>\n",
       "      <td>fog</td>\n",
       "      <td>2015</td>\n",
       "    </tr>\n",
       "    <tr>\n",
       "      <th>1457</th>\n",
       "      <td>2015/12/28</td>\n",
       "      <td>1.5</td>\n",
       "      <td>5.0</td>\n",
       "      <td>1.7</td>\n",
       "      <td>1.3</td>\n",
       "      <td>fog</td>\n",
       "      <td>2015</td>\n",
       "    </tr>\n",
       "    <tr>\n",
       "      <th>1458</th>\n",
       "      <td>2015/12/29</td>\n",
       "      <td>0.0</td>\n",
       "      <td>7.2</td>\n",
       "      <td>0.6</td>\n",
       "      <td>2.6</td>\n",
       "      <td>fog</td>\n",
       "      <td>2015</td>\n",
       "    </tr>\n",
       "    <tr>\n",
       "      <th>1459</th>\n",
       "      <td>2015/12/30</td>\n",
       "      <td>0.0</td>\n",
       "      <td>5.6</td>\n",
       "      <td>-1.0</td>\n",
       "      <td>3.4</td>\n",
       "      <td>sun</td>\n",
       "      <td>2015</td>\n",
       "    </tr>\n",
       "    <tr>\n",
       "      <th>1460</th>\n",
       "      <td>2015/12/31</td>\n",
       "      <td>0.0</td>\n",
       "      <td>5.6</td>\n",
       "      <td>-2.1</td>\n",
       "      <td>3.5</td>\n",
       "      <td>sun</td>\n",
       "      <td>2015</td>\n",
       "    </tr>\n",
       "  </tbody>\n",
       "</table>\n",
       "<p>1461 rows × 7 columns</p>\n",
       "</div>"
      ],
      "text/plain": [
       "            date  precipitation  temp_max  temp_min  wind  weather  year\n",
       "0       2012/1/1            0.0      12.8       5.0   4.7  drizzle  2012\n",
       "1       2012/1/2           10.9      10.6       2.8   4.5     rain  2012\n",
       "2       2012/1/3            0.8      11.7       7.2   2.3     rain  2012\n",
       "3       2012/1/4           20.3      12.2       5.6   4.7     rain  2012\n",
       "4       2012/1/5            1.3       8.9       2.8   6.1     rain  2012\n",
       "...          ...            ...       ...       ...   ...      ...   ...\n",
       "1456  2015/12/27            8.6       4.4       1.7   2.9      fog  2015\n",
       "1457  2015/12/28            1.5       5.0       1.7   1.3      fog  2015\n",
       "1458  2015/12/29            0.0       7.2       0.6   2.6      fog  2015\n",
       "1459  2015/12/30            0.0       5.6      -1.0   3.4      sun  2015\n",
       "1460  2015/12/31            0.0       5.6      -2.1   3.5      sun  2015\n",
       "\n",
       "[1461 rows x 7 columns]"
      ]
     },
     "execution_count": 5,
     "metadata": {},
     "output_type": "execute_result"
    }
   ],
   "source": [
    "df"
   ]
  },
  {
   "cell_type": "code",
   "execution_count": 6,
   "id": "00820d8c",
   "metadata": {},
   "outputs": [],
   "source": [
    "df2012 = df[df['year']==2012]"
   ]
  },
  {
   "cell_type": "code",
   "execution_count": 7,
   "id": "e6853a0d",
   "metadata": {},
   "outputs": [
    {
     "data": {
      "text/html": [
       "<div>\n",
       "<style scoped>\n",
       "    .dataframe tbody tr th:only-of-type {\n",
       "        vertical-align: middle;\n",
       "    }\n",
       "\n",
       "    .dataframe tbody tr th {\n",
       "        vertical-align: top;\n",
       "    }\n",
       "\n",
       "    .dataframe thead th {\n",
       "        text-align: right;\n",
       "    }\n",
       "</style>\n",
       "<table border=\"1\" class=\"dataframe\">\n",
       "  <thead>\n",
       "    <tr style=\"text-align: right;\">\n",
       "      <th></th>\n",
       "      <th>date</th>\n",
       "      <th>precipitation</th>\n",
       "      <th>temp_max</th>\n",
       "      <th>temp_min</th>\n",
       "      <th>wind</th>\n",
       "      <th>weather</th>\n",
       "      <th>year</th>\n",
       "    </tr>\n",
       "  </thead>\n",
       "  <tbody>\n",
       "    <tr>\n",
       "      <th>0</th>\n",
       "      <td>2012/1/1</td>\n",
       "      <td>0.0</td>\n",
       "      <td>12.8</td>\n",
       "      <td>5.0</td>\n",
       "      <td>4.7</td>\n",
       "      <td>drizzle</td>\n",
       "      <td>2012</td>\n",
       "    </tr>\n",
       "    <tr>\n",
       "      <th>1</th>\n",
       "      <td>2012/1/2</td>\n",
       "      <td>10.9</td>\n",
       "      <td>10.6</td>\n",
       "      <td>2.8</td>\n",
       "      <td>4.5</td>\n",
       "      <td>rain</td>\n",
       "      <td>2012</td>\n",
       "    </tr>\n",
       "    <tr>\n",
       "      <th>2</th>\n",
       "      <td>2012/1/3</td>\n",
       "      <td>0.8</td>\n",
       "      <td>11.7</td>\n",
       "      <td>7.2</td>\n",
       "      <td>2.3</td>\n",
       "      <td>rain</td>\n",
       "      <td>2012</td>\n",
       "    </tr>\n",
       "    <tr>\n",
       "      <th>3</th>\n",
       "      <td>2012/1/4</td>\n",
       "      <td>20.3</td>\n",
       "      <td>12.2</td>\n",
       "      <td>5.6</td>\n",
       "      <td>4.7</td>\n",
       "      <td>rain</td>\n",
       "      <td>2012</td>\n",
       "    </tr>\n",
       "    <tr>\n",
       "      <th>4</th>\n",
       "      <td>2012/1/5</td>\n",
       "      <td>1.3</td>\n",
       "      <td>8.9</td>\n",
       "      <td>2.8</td>\n",
       "      <td>6.1</td>\n",
       "      <td>rain</td>\n",
       "      <td>2012</td>\n",
       "    </tr>\n",
       "    <tr>\n",
       "      <th>...</th>\n",
       "      <td>...</td>\n",
       "      <td>...</td>\n",
       "      <td>...</td>\n",
       "      <td>...</td>\n",
       "      <td>...</td>\n",
       "      <td>...</td>\n",
       "      <td>...</td>\n",
       "    </tr>\n",
       "    <tr>\n",
       "      <th>361</th>\n",
       "      <td>2012/12/27</td>\n",
       "      <td>4.1</td>\n",
       "      <td>7.8</td>\n",
       "      <td>3.3</td>\n",
       "      <td>3.2</td>\n",
       "      <td>rain</td>\n",
       "      <td>2012</td>\n",
       "    </tr>\n",
       "    <tr>\n",
       "      <th>362</th>\n",
       "      <td>2012/12/28</td>\n",
       "      <td>0.0</td>\n",
       "      <td>8.3</td>\n",
       "      <td>3.9</td>\n",
       "      <td>1.7</td>\n",
       "      <td>rain</td>\n",
       "      <td>2012</td>\n",
       "    </tr>\n",
       "    <tr>\n",
       "      <th>363</th>\n",
       "      <td>2012/12/29</td>\n",
       "      <td>1.5</td>\n",
       "      <td>5.0</td>\n",
       "      <td>3.3</td>\n",
       "      <td>1.7</td>\n",
       "      <td>rain</td>\n",
       "      <td>2012</td>\n",
       "    </tr>\n",
       "    <tr>\n",
       "      <th>364</th>\n",
       "      <td>2012/12/30</td>\n",
       "      <td>0.0</td>\n",
       "      <td>4.4</td>\n",
       "      <td>0.0</td>\n",
       "      <td>1.8</td>\n",
       "      <td>drizzle</td>\n",
       "      <td>2012</td>\n",
       "    </tr>\n",
       "    <tr>\n",
       "      <th>365</th>\n",
       "      <td>2012/12/31</td>\n",
       "      <td>0.0</td>\n",
       "      <td>3.3</td>\n",
       "      <td>-1.1</td>\n",
       "      <td>2.0</td>\n",
       "      <td>drizzle</td>\n",
       "      <td>2012</td>\n",
       "    </tr>\n",
       "  </tbody>\n",
       "</table>\n",
       "<p>366 rows × 7 columns</p>\n",
       "</div>"
      ],
      "text/plain": [
       "           date  precipitation  temp_max  temp_min  wind  weather  year\n",
       "0      2012/1/1            0.0      12.8       5.0   4.7  drizzle  2012\n",
       "1      2012/1/2           10.9      10.6       2.8   4.5     rain  2012\n",
       "2      2012/1/3            0.8      11.7       7.2   2.3     rain  2012\n",
       "3      2012/1/4           20.3      12.2       5.6   4.7     rain  2012\n",
       "4      2012/1/5            1.3       8.9       2.8   6.1     rain  2012\n",
       "..          ...            ...       ...       ...   ...      ...   ...\n",
       "361  2012/12/27            4.1       7.8       3.3   3.2     rain  2012\n",
       "362  2012/12/28            0.0       8.3       3.9   1.7     rain  2012\n",
       "363  2012/12/29            1.5       5.0       3.3   1.7     rain  2012\n",
       "364  2012/12/30            0.0       4.4       0.0   1.8  drizzle  2012\n",
       "365  2012/12/31            0.0       3.3      -1.1   2.0  drizzle  2012\n",
       "\n",
       "[366 rows x 7 columns]"
      ]
     },
     "execution_count": 7,
     "metadata": {},
     "output_type": "execute_result"
    }
   ],
   "source": [
    "df2012"
   ]
  },
  {
   "cell_type": "code",
   "execution_count": 10,
   "id": "5fc1d2ad",
   "metadata": {},
   "outputs": [],
   "source": [
    "# Extract precipitation data from the year 2012\n",
    "\n",
    "rainfall = df2012['precipitation']"
   ]
  },
  {
   "cell_type": "code",
   "execution_count": 11,
   "id": "c88ece31",
   "metadata": {},
   "outputs": [
    {
     "data": {
      "text/plain": [
       "0       0.0\n",
       "1      10.9\n",
       "2       0.8\n",
       "3      20.3\n",
       "4       1.3\n",
       "       ... \n",
       "361     4.1\n",
       "362     0.0\n",
       "363     1.5\n",
       "364     0.0\n",
       "365     0.0\n",
       "Name: precipitation, Length: 366, dtype: float64"
      ]
     },
     "execution_count": 11,
     "metadata": {},
     "output_type": "execute_result"
    }
   ],
   "source": [
    "rainfall"
   ]
  },
  {
   "cell_type": "code",
   "execution_count": 14,
   "id": "c77bcc91",
   "metadata": {},
   "outputs": [
    {
     "data": {
      "text/plain": [
       "55"
      ]
     },
     "execution_count": 14,
     "metadata": {},
     "output_type": "execute_result"
    }
   ],
   "source": [
    "# All rainy days between 15mm and 5mm in the year 2012\n",
    "\n",
    "np.sum((rainfall<15) & (rainfall>5))"
   ]
  },
  {
   "cell_type": "code",
   "execution_count": null,
   "id": "c9ac8649",
   "metadata": {},
   "outputs": [],
   "source": [
    "n"
   ]
  },
  {
   "cell_type": "code",
   "execution_count": 8,
   "id": "8244a3a5",
   "metadata": {},
   "outputs": [],
   "source": [
    "# Construct a mask on all rainy days\n",
    "\n",
    "rain2012 = df2012['precipitation']>0"
   ]
  },
  {
   "cell_type": "code",
   "execution_count": 9,
   "id": "b07a2210",
   "metadata": {},
   "outputs": [
    {
     "data": {
      "text/plain": [
       "0      False\n",
       "1       True\n",
       "2       True\n",
       "3       True\n",
       "4       True\n",
       "       ...  \n",
       "361     True\n",
       "362    False\n",
       "363     True\n",
       "364    False\n",
       "365    False\n",
       "Name: precipitation, Length: 366, dtype: bool"
      ]
     },
     "execution_count": 9,
     "metadata": {},
     "output_type": "execute_result"
    }
   ],
   "source": [
    "rain2012"
   ]
  },
  {
   "cell_type": "code",
   "execution_count": 18,
   "id": "3b0527ba",
   "metadata": {},
   "outputs": [],
   "source": [
    "# Calculate number of days without rain in year 2012\n",
    "\n",
    "withoutrain2012 = np.sum([df2012['precipitation']==0])"
   ]
  },
  {
   "cell_type": "code",
   "execution_count": 19,
   "id": "6d6d91b5",
   "metadata": {},
   "outputs": [
    {
     "data": {
      "text/plain": [
       "189"
      ]
     },
     "execution_count": 19,
     "metadata": {},
     "output_type": "execute_result"
    }
   ],
   "source": [
    "withoutrain2012"
   ]
  },
  {
   "cell_type": "code",
   "execution_count": 20,
   "id": "78555015",
   "metadata": {},
   "outputs": [],
   "source": [
    "# Calculate number of days with rain in year 2012\n",
    "\n",
    "withrain2012 = np.sum([df2012['precipitation']!=0])"
   ]
  },
  {
   "cell_type": "code",
   "execution_count": 21,
   "id": "2fad664c",
   "metadata": {},
   "outputs": [
    {
     "data": {
      "text/plain": [
       "177"
      ]
     },
     "execution_count": 21,
     "metadata": {},
     "output_type": "execute_result"
    }
   ],
   "source": [
    "withrain2012"
   ]
  },
  {
   "cell_type": "code",
   "execution_count": 23,
   "id": "e9acb928",
   "metadata": {},
   "outputs": [],
   "source": [
    "# Calculate number of days greater than 5mm rain in year 2012\n",
    "\n",
    "greater5 = np.sum([df2012['precipitation']>5])"
   ]
  },
  {
   "cell_type": "code",
   "execution_count": 24,
   "id": "93bb7185",
   "metadata": {},
   "outputs": [
    {
     "data": {
      "text/plain": [
       "78"
      ]
     },
     "execution_count": 24,
     "metadata": {},
     "output_type": "execute_result"
    }
   ],
   "source": [
    "greater5"
   ]
  },
  {
   "cell_type": "markdown",
   "id": "5340243d",
   "metadata": {},
   "source": [
    "# Fancy Indexing"
   ]
  },
  {
   "cell_type": "code",
   "execution_count": 25,
   "id": "06bd96cf",
   "metadata": {},
   "outputs": [],
   "source": [
    "# Fancy indexing in single dimension\n",
    "\n",
    "rand = np.random.RandomState(42)\n",
    "\n",
    "x = rand.randint(100, size=10)"
   ]
  },
  {
   "cell_type": "code",
   "execution_count": 26,
   "id": "93592b2b",
   "metadata": {},
   "outputs": [
    {
     "data": {
      "text/plain": [
       "array([51, 92, 14, 71, 60, 20, 82, 86, 74, 74])"
      ]
     },
     "execution_count": 26,
     "metadata": {},
     "output_type": "execute_result"
    }
   ],
   "source": [
    "x"
   ]
  },
  {
   "cell_type": "code",
   "execution_count": 28,
   "id": "09d6df96",
   "metadata": {},
   "outputs": [
    {
     "data": {
      "text/plain": [
       "(14, 71, 86)"
      ]
     },
     "execution_count": 28,
     "metadata": {},
     "output_type": "execute_result"
    }
   ],
   "source": [
    "x[2], x[3], x[7]"
   ]
  },
  {
   "cell_type": "code",
   "execution_count": 29,
   "id": "7a50f483",
   "metadata": {},
   "outputs": [
    {
     "data": {
      "text/plain": [
       "array([14, 86, 71])"
      ]
     },
     "execution_count": 29,
     "metadata": {},
     "output_type": "execute_result"
    }
   ],
   "source": [
    "ind = [2,7,3]\n",
    "\n",
    "x[ind]"
   ]
  },
  {
   "cell_type": "code",
   "execution_count": 31,
   "id": "897af3a7",
   "metadata": {},
   "outputs": [],
   "source": [
    "# Creating a new array using x\n",
    "\n",
    "ind = np.array([[3,7],\n",
    "                [4,5]])"
   ]
  },
  {
   "cell_type": "code",
   "execution_count": 32,
   "id": "5dac19ef",
   "metadata": {},
   "outputs": [
    {
     "data": {
      "text/plain": [
       "array([[71, 86],\n",
       "       [60, 20]])"
      ]
     },
     "execution_count": 32,
     "metadata": {},
     "output_type": "execute_result"
    }
   ],
   "source": [
    "x[ind]"
   ]
  },
  {
   "cell_type": "markdown",
   "id": "0f397a37",
   "metadata": {},
   "source": [
    "# Fancy indexing in multiple dimension"
   ]
  },
  {
   "cell_type": "code",
   "execution_count": 33,
   "id": "2a8f59a5",
   "metadata": {},
   "outputs": [],
   "source": [
    "X = np.arange(12).reshape(3,4)"
   ]
  },
  {
   "cell_type": "code",
   "execution_count": 34,
   "id": "91bad06a",
   "metadata": {},
   "outputs": [
    {
     "data": {
      "text/plain": [
       "array([[ 0,  1,  2,  3],\n",
       "       [ 4,  5,  6,  7],\n",
       "       [ 8,  9, 10, 11]])"
      ]
     },
     "execution_count": 34,
     "metadata": {},
     "output_type": "execute_result"
    }
   ],
   "source": [
    "X"
   ]
  },
  {
   "cell_type": "code",
   "execution_count": 35,
   "id": "4afa0acf",
   "metadata": {},
   "outputs": [],
   "source": [
    "# Creating a new array by X with below index\n",
    "\n",
    "row = np.array([0,1,2])\n",
    "col = np.array([2,1,3])"
   ]
  },
  {
   "cell_type": "code",
   "execution_count": 36,
   "id": "b42eb3e8",
   "metadata": {},
   "outputs": [
    {
     "data": {
      "text/plain": [
       "array([ 2,  5, 11])"
      ]
     },
     "execution_count": 36,
     "metadata": {},
     "output_type": "execute_result"
    }
   ],
   "source": [
    "X[row,col]"
   ]
  },
  {
   "cell_type": "code",
   "execution_count": 38,
   "id": "ec2a7d25",
   "metadata": {},
   "outputs": [
    {
     "data": {
      "text/plain": [
       "array([[ 2,  1,  3],\n",
       "       [ 6,  5,  7],\n",
       "       [10,  9, 11]])"
      ]
     },
     "execution_count": 38,
     "metadata": {},
     "output_type": "execute_result"
    }
   ],
   "source": [
    "# Create a new array that is a submatrix of x\n",
    "X[row[:,np.newaxis], col]"
   ]
  },
  {
   "cell_type": "code",
   "execution_count": 39,
   "id": "b7969053",
   "metadata": {},
   "outputs": [
    {
     "data": {
      "text/plain": [
       "array([[ 0,  1,  2,  3],\n",
       "       [ 4,  5,  6,  7],\n",
       "       [ 8,  9, 10, 11]])"
      ]
     },
     "execution_count": 39,
     "metadata": {},
     "output_type": "execute_result"
    }
   ],
   "source": [
    "X"
   ]
  },
  {
   "cell_type": "markdown",
   "id": "113deaad",
   "metadata": {},
   "source": [
    "# Combined Indexing"
   ]
  },
  {
   "cell_type": "code",
   "execution_count": 40,
   "id": "ab8e3b34",
   "metadata": {},
   "outputs": [
    {
     "data": {
      "text/plain": [
       "array([10,  8, 10])"
      ]
     },
     "execution_count": 40,
     "metadata": {},
     "output_type": "execute_result"
    }
   ],
   "source": [
    "# Combine fancy indices and simple indices\n",
    "\n",
    "X[2, [2, 0, 2]]"
   ]
  },
  {
   "cell_type": "code",
   "execution_count": 42,
   "id": "7929edf5",
   "metadata": {},
   "outputs": [
    {
     "data": {
      "text/plain": [
       "array([[ 6,  4,  5],\n",
       "       [10,  8,  9]])"
      ]
     },
     "execution_count": 42,
     "metadata": {},
     "output_type": "execute_result"
    }
   ],
   "source": [
    "# Combine fancy indices with slicing\n",
    "\n",
    "X[1:,[2,0,1]]"
   ]
  },
  {
   "cell_type": "code",
   "execution_count": 43,
   "id": "a03ff72a",
   "metadata": {},
   "outputs": [],
   "source": [
    "# Combine fancy indices with mask\n",
    "\n",
    "mask = np.array([1,0,1,0], dtype= bool)"
   ]
  },
  {
   "cell_type": "code",
   "execution_count": 44,
   "id": "1e64fa9e",
   "metadata": {},
   "outputs": [
    {
     "data": {
      "text/plain": [
       "array([ True, False,  True, False])"
      ]
     },
     "execution_count": 44,
     "metadata": {},
     "output_type": "execute_result"
    }
   ],
   "source": [
    "mask"
   ]
  },
  {
   "cell_type": "code",
   "execution_count": 45,
   "id": "02df2512",
   "metadata": {},
   "outputs": [
    {
     "data": {
      "text/plain": [
       "array([[ 0,  2],\n",
       "       [ 4,  6],\n",
       "       [ 8, 10]])"
      ]
     },
     "execution_count": 45,
     "metadata": {},
     "output_type": "execute_result"
    }
   ],
   "source": [
    "X[row[:,np.newaxis], mask]"
   ]
  },
  {
   "cell_type": "markdown",
   "id": "35468456",
   "metadata": {},
   "source": [
    "# Modify values with Fancy indexing"
   ]
  },
  {
   "cell_type": "code",
   "execution_count": 46,
   "id": "4fce46e8",
   "metadata": {},
   "outputs": [],
   "source": [
    "x = np.arange(10)\n",
    "\n",
    "i = np.array([2,1,8,4])"
   ]
  },
  {
   "cell_type": "code",
   "execution_count": 47,
   "id": "0fdc6575",
   "metadata": {},
   "outputs": [
    {
     "name": "stdout",
     "output_type": "stream",
     "text": [
      "[0 1 2 3 4 5 6 7 8 9]\n"
     ]
    }
   ],
   "source": [
    "print(x)"
   ]
  },
  {
   "cell_type": "code",
   "execution_count": 48,
   "id": "4e2af45e",
   "metadata": {},
   "outputs": [
    {
     "name": "stdout",
     "output_type": "stream",
     "text": [
      "[2 1 8 4]\n"
     ]
    }
   ],
   "source": [
    "print(i)"
   ]
  },
  {
   "cell_type": "code",
   "execution_count": 49,
   "id": "ec194e3e",
   "metadata": {},
   "outputs": [
    {
     "data": {
      "text/plain": [
       "array([2, 1, 8, 4])"
      ]
     },
     "execution_count": 49,
     "metadata": {},
     "output_type": "execute_result"
    }
   ],
   "source": [
    "x[i]"
   ]
  },
  {
   "cell_type": "code",
   "execution_count": 50,
   "id": "27f245a3",
   "metadata": {},
   "outputs": [],
   "source": [
    "x[i] =99"
   ]
  },
  {
   "cell_type": "code",
   "execution_count": 51,
   "id": "bd506038",
   "metadata": {},
   "outputs": [
    {
     "data": {
      "text/plain": [
       "array([ 0, 99, 99,  3, 99,  5,  6,  7, 99,  9])"
      ]
     },
     "execution_count": 51,
     "metadata": {},
     "output_type": "execute_result"
    }
   ],
   "source": [
    "x"
   ]
  },
  {
   "cell_type": "code",
   "execution_count": 52,
   "id": "bb7faf36",
   "metadata": {},
   "outputs": [],
   "source": [
    "# adding values\n",
    "\n",
    "x[i]+=10"
   ]
  },
  {
   "cell_type": "code",
   "execution_count": 56,
   "id": "e9024480",
   "metadata": {},
   "outputs": [],
   "source": [
    "x[i]= x[i]+10"
   ]
  },
  {
   "cell_type": "code",
   "execution_count": 57,
   "id": "6d2912ea",
   "metadata": {},
   "outputs": [
    {
     "data": {
      "text/plain": [
       "array([  0, 109, 109,   3, 109,   5,   6,   7, 109,   9])"
      ]
     },
     "execution_count": 57,
     "metadata": {},
     "output_type": "execute_result"
    }
   ],
   "source": [
    "x"
   ]
  },
  {
   "cell_type": "code",
   "execution_count": 58,
   "id": "c4fc0a69",
   "metadata": {},
   "outputs": [],
   "source": [
    "# Subtracting value\n",
    "\n",
    "x[i]-=10"
   ]
  },
  {
   "cell_type": "code",
   "execution_count": 55,
   "id": "b16ac420",
   "metadata": {},
   "outputs": [
    {
     "data": {
      "text/plain": [
       "array([ 0, 99, 99,  3, 99,  5,  6,  7, 99,  9])"
      ]
     },
     "execution_count": 55,
     "metadata": {},
     "output_type": "execute_result"
    }
   ],
   "source": [
    "x"
   ]
  },
  {
   "cell_type": "code",
   "execution_count": 60,
   "id": "586c14dd",
   "metadata": {},
   "outputs": [],
   "source": [
    "x[[0,0]] = [4,6]"
   ]
  },
  {
   "cell_type": "code",
   "execution_count": 61,
   "id": "cfd27275",
   "metadata": {},
   "outputs": [
    {
     "data": {
      "text/plain": [
       "array([ 6, 99, 99,  3, 99,  5,  6,  7, 99,  9])"
      ]
     },
     "execution_count": 61,
     "metadata": {},
     "output_type": "execute_result"
    }
   ],
   "source": [
    "x"
   ]
  },
  {
   "cell_type": "code",
   "execution_count": 62,
   "id": "592d7dea",
   "metadata": {},
   "outputs": [],
   "source": [
    "x = np.zeros(10)"
   ]
  },
  {
   "cell_type": "code",
   "execution_count": 63,
   "id": "2f1828d5",
   "metadata": {},
   "outputs": [
    {
     "data": {
      "text/plain": [
       "array([0., 0., 0., 0., 0., 0., 0., 0., 0., 0.])"
      ]
     },
     "execution_count": 63,
     "metadata": {},
     "output_type": "execute_result"
    }
   ],
   "source": [
    "x"
   ]
  },
  {
   "cell_type": "code",
   "execution_count": 64,
   "id": "1c87622c",
   "metadata": {},
   "outputs": [],
   "source": [
    "i = [1,2,2,3,3,3,4,4,4,4]"
   ]
  },
  {
   "cell_type": "code",
   "execution_count": 65,
   "id": "25c63c92",
   "metadata": {},
   "outputs": [],
   "source": [
    "x[i]+=1"
   ]
  },
  {
   "cell_type": "code",
   "execution_count": 66,
   "id": "44874d36",
   "metadata": {},
   "outputs": [
    {
     "data": {
      "text/plain": [
       "array([0., 1., 1., 1., 1., 0., 0., 0., 0., 0.])"
      ]
     },
     "execution_count": 66,
     "metadata": {},
     "output_type": "execute_result"
    }
   ],
   "source": [
    "x"
   ]
  },
  {
   "cell_type": "code",
   "execution_count": 67,
   "id": "eb67a2b6",
   "metadata": {},
   "outputs": [],
   "source": [
    "# Repeating the adding function\n",
    "\n",
    "np.add.at(x,i,1)"
   ]
  },
  {
   "cell_type": "code",
   "execution_count": 68,
   "id": "0fd9ad25",
   "metadata": {},
   "outputs": [
    {
     "data": {
      "text/plain": [
       "array([0., 2., 3., 4., 5., 0., 0., 0., 0., 0.])"
      ]
     },
     "execution_count": 68,
     "metadata": {},
     "output_type": "execute_result"
    }
   ],
   "source": [
    "x"
   ]
  },
  {
   "cell_type": "markdown",
   "id": "5862cb00",
   "metadata": {},
   "source": [
    "# Sorting Arrays"
   ]
  },
  {
   "cell_type": "code",
   "execution_count": 69,
   "id": "6d055b55",
   "metadata": {},
   "outputs": [],
   "source": [
    "x = np.array([5,4,32,1])"
   ]
  },
  {
   "cell_type": "code",
   "execution_count": 70,
   "id": "c154a676",
   "metadata": {},
   "outputs": [
    {
     "data": {
      "text/plain": [
       "array([ 1,  4,  5, 32])"
      ]
     },
     "execution_count": 70,
     "metadata": {},
     "output_type": "execute_result"
    }
   ],
   "source": [
    "np.sort(x) #NumPy built-in function np.sort()"
   ]
  },
  {
   "cell_type": "code",
   "execution_count": 72,
   "id": "5d04cdbd",
   "metadata": {},
   "outputs": [
    {
     "name": "stdout",
     "output_type": "stream",
     "text": [
      "[ 1  4  5 32]\n"
     ]
    }
   ],
   "source": [
    "x.sort() #Python buil-in function\n",
    "print(x)"
   ]
  },
  {
   "cell_type": "code",
   "execution_count": 73,
   "id": "717d501a",
   "metadata": {},
   "outputs": [],
   "source": [
    "# To get the indices of sorted elements\n",
    "\n",
    "i = np.argsort(x)"
   ]
  },
  {
   "cell_type": "code",
   "execution_count": 75,
   "id": "eb5f85bf",
   "metadata": {},
   "outputs": [
    {
     "name": "stdout",
     "output_type": "stream",
     "text": [
      "Sorted indices: [0 1 2 3]\n",
      "Sorted elements: [ 1  4  5 32]\n"
     ]
    }
   ],
   "source": [
    "print(\"Sorted indices:\", i)\n",
    "print(\"Sorted elements:\", x)"
   ]
  },
  {
   "cell_type": "code",
   "execution_count": 76,
   "id": "00cc9b25",
   "metadata": {},
   "outputs": [],
   "source": [
    "# Sorting of arrays along with rows and columns\n",
    "\n",
    "rand = np.random.RandomState(42)\n",
    "x = rand.randint(0,10,(4,6))"
   ]
  },
  {
   "cell_type": "code",
   "execution_count": 77,
   "id": "e5357242",
   "metadata": {},
   "outputs": [
    {
     "data": {
      "text/plain": [
       "array([[6, 3, 7, 4, 6, 9],\n",
       "       [2, 6, 7, 4, 3, 7],\n",
       "       [7, 2, 5, 4, 1, 7],\n",
       "       [5, 1, 4, 0, 9, 5]])"
      ]
     },
     "execution_count": 77,
     "metadata": {},
     "output_type": "execute_result"
    }
   ],
   "source": [
    "x"
   ]
  },
  {
   "cell_type": "code",
   "execution_count": 78,
   "id": "2ac3c333",
   "metadata": {},
   "outputs": [
    {
     "data": {
      "text/plain": [
       "array([[2, 1, 4, 0, 1, 5],\n",
       "       [5, 2, 5, 4, 3, 7],\n",
       "       [6, 3, 7, 4, 6, 7],\n",
       "       [7, 6, 7, 4, 9, 9]])"
      ]
     },
     "execution_count": 78,
     "metadata": {},
     "output_type": "execute_result"
    }
   ],
   "source": [
    "# Sort each element of column x\n",
    "\n",
    "np.sort(x, axis=0)"
   ]
  },
  {
   "cell_type": "code",
   "execution_count": 79,
   "id": "f58dd6ef",
   "metadata": {},
   "outputs": [
    {
     "data": {
      "text/plain": [
       "array([[3, 4, 6, 6, 7, 9],\n",
       "       [2, 3, 4, 6, 7, 7],\n",
       "       [1, 2, 4, 5, 7, 7],\n",
       "       [0, 1, 4, 5, 5, 9]])"
      ]
     },
     "execution_count": 79,
     "metadata": {},
     "output_type": "execute_result"
    }
   ],
   "source": [
    "# Sort each row of x\n",
    "\n",
    "np.sort(x, axis=1)"
   ]
  },
  {
   "cell_type": "markdown",
   "id": "b9f17663",
   "metadata": {},
   "source": [
    "# Partial sorting: Partitioning"
   ]
  },
  {
   "cell_type": "code",
   "execution_count": 80,
   "id": "9e666dde",
   "metadata": {},
   "outputs": [],
   "source": [
    "# When we are interested to find the K smallest values in the array\n",
    "\n",
    "x = np.array([99,88,77,66,55,44,33,22,11])"
   ]
  },
  {
   "cell_type": "code",
   "execution_count": 84,
   "id": "3ccc7d13",
   "metadata": {},
   "outputs": [
    {
     "data": {
      "text/plain": [
       "array([99, 88, 77, 66, 55, 44, 33, 22, 11])"
      ]
     },
     "execution_count": 84,
     "metadata": {},
     "output_type": "execute_result"
    }
   ],
   "source": [
    "x"
   ]
  },
  {
   "cell_type": "code",
   "execution_count": 82,
   "id": "3a257d20",
   "metadata": {},
   "outputs": [
    {
     "data": {
      "text/plain": [
       "array([22, 11, 33, 44, 55, 88, 66, 77, 99])"
      ]
     },
     "execution_count": 82,
     "metadata": {},
     "output_type": "execute_result"
    }
   ],
   "source": [
    "# Give smallest values to the left of the partition, and \n",
    "# remaining values to the right in arbitrary order\n",
    "np.partition(x,3)"
   ]
  },
  {
   "cell_type": "markdown",
   "id": "b93c7a8d",
   "metadata": {},
   "source": [
    "## Two dimensional array sorting"
   ]
  },
  {
   "cell_type": "code",
   "execution_count": 89,
   "id": "f2da1bc2",
   "metadata": {},
   "outputs": [],
   "source": [
    "rand = np.random.RandomState(42)\n",
    "x = rand.randint(0,10,(4,6))"
   ]
  },
  {
   "cell_type": "code",
   "execution_count": 91,
   "id": "a51fe119",
   "metadata": {},
   "outputs": [
    {
     "data": {
      "text/plain": [
       "array([[6, 3, 7, 4, 6, 9],\n",
       "       [2, 6, 7, 4, 3, 7],\n",
       "       [7, 2, 5, 4, 1, 7],\n",
       "       [5, 1, 4, 0, 9, 5]])"
      ]
     },
     "execution_count": 91,
     "metadata": {},
     "output_type": "execute_result"
    }
   ],
   "source": [
    "x"
   ]
  },
  {
   "cell_type": "code",
   "execution_count": 94,
   "id": "d21753da",
   "metadata": {},
   "outputs": [
    {
     "data": {
      "text/plain": [
       "array([[3, 4, 6, 7, 6, 9],\n",
       "       [2, 3, 4, 7, 6, 7],\n",
       "       [1, 2, 4, 5, 7, 7],\n",
       "       [0, 1, 4, 5, 9, 5]])"
      ]
     },
     "execution_count": 94,
     "metadata": {},
     "output_type": "execute_result"
    }
   ],
   "source": [
    "np.partition(x,2, axis=1) # row wise sorting"
   ]
  },
  {
   "cell_type": "code",
   "execution_count": 92,
   "id": "bd7c4e94",
   "metadata": {},
   "outputs": [
    {
     "data": {
      "text/plain": [
       "array([[2, 1, 4, 0, 1, 5],\n",
       "       [5, 2, 5, 4, 3, 7],\n",
       "       [6, 3, 7, 4, 6, 7],\n",
       "       [7, 6, 7, 4, 9, 9]])"
      ]
     },
     "execution_count": 92,
     "metadata": {},
     "output_type": "execute_result"
    }
   ],
   "source": [
    "# column wise sorting\n",
    "np.partition(x,2, axis=0)"
   ]
  },
  {
   "cell_type": "markdown",
   "id": "56537cd2",
   "metadata": {},
   "source": [
    "# Structured Data\n"
   ]
  },
  {
   "cell_type": "code",
   "execution_count": 96,
   "id": "b8ed24cd",
   "metadata": {},
   "outputs": [],
   "source": [
    "# Create a compound dtype by specifying them as a list(square brackets)\n",
    "# of tuples(parenthesis)"
   ]
  },
  {
   "cell_type": "code",
   "execution_count": 97,
   "id": "21532e9a",
   "metadata": {},
   "outputs": [],
   "source": [
    "datatype = [('name', 'U10'), ('age', 'i4'), ('weight', 'f4')]"
   ]
  },
  {
   "cell_type": "code",
   "execution_count": 98,
   "id": "1f5866bf",
   "metadata": {},
   "outputs": [
    {
     "data": {
      "text/plain": [
       "[('name', 'U10'), ('age', 'i4'), ('weight', 'f4')]"
      ]
     },
     "execution_count": 98,
     "metadata": {},
     "output_type": "execute_result"
    }
   ],
   "source": [
    "datatype"
   ]
  },
  {
   "cell_type": "code",
   "execution_count": 99,
   "id": "e960ff0d",
   "metadata": {},
   "outputs": [],
   "source": [
    "# create values by specifying them as a list(square brackets)\n",
    "# of tuples(parenthesis)\n",
    "\n",
    "values = [('Rex', 9, 81.0), ('Fido', 3, 27.0), ('Bob', 45, 85.5)]"
   ]
  },
  {
   "cell_type": "code",
   "execution_count": 100,
   "id": "31d8f47b",
   "metadata": {},
   "outputs": [],
   "source": [
    "F = np.array(values, dtype= datatype)"
   ]
  },
  {
   "cell_type": "code",
   "execution_count": 102,
   "id": "7486d790",
   "metadata": {},
   "outputs": [
    {
     "name": "stdout",
     "output_type": "stream",
     "text": [
      "[('Rex',  9, 81. ) ('Fido',  3, 27. ) ('Bob', 45, 85.5)]\n"
     ]
    }
   ],
   "source": [
    "print(F)"
   ]
  },
  {
   "cell_type": "code",
   "execution_count": 103,
   "id": "3b6f929b",
   "metadata": {},
   "outputs": [
    {
     "data": {
      "text/plain": [
       "array(['Rex', 'Fido', 'Bob'], dtype='<U10')"
      ]
     },
     "execution_count": 103,
     "metadata": {},
     "output_type": "execute_result"
    }
   ],
   "source": [
    "F['name']"
   ]
  },
  {
   "cell_type": "code",
   "execution_count": null,
   "id": "86c6df75",
   "metadata": {},
   "outputs": [],
   "source": []
  }
 ],
 "metadata": {
  "kernelspec": {
   "display_name": "Python 3 (ipykernel)",
   "language": "python",
   "name": "python3"
  },
  "language_info": {
   "codemirror_mode": {
    "name": "ipython",
    "version": 3
   },
   "file_extension": ".py",
   "mimetype": "text/x-python",
   "name": "python",
   "nbconvert_exporter": "python",
   "pygments_lexer": "ipython3",
   "version": "3.9.12"
  }
 },
 "nbformat": 4,
 "nbformat_minor": 5
}
