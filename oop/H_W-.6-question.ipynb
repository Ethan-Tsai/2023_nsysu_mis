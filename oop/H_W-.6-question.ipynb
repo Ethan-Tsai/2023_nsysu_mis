{
 "cells": [
  {
   "cell_type": "markdown",
   "id": "a0fa316c",
   "metadata": {
    "id": "a0fa316c"
   },
   "source": [
    "# Combining and Merging Datasets"
   ]
  },
  {
   "cell_type": "code",
   "execution_count": 1,
   "id": "51acb7ab",
   "metadata": {
    "id": "51acb7ab"
   },
   "outputs": [],
   "source": [
    "import numpy as np\n",
    "import pandas as pd"
   ]
  },
  {
   "cell_type": "code",
   "execution_count": 2,
   "id": "423f1af0",
   "metadata": {
    "id": "423f1af0"
   },
   "outputs": [],
   "source": [
    "# related data objects\n",
    "\n",
    "df1 = pd.DataFrame({'key': ['b', 'b', 'a', 'c', 'a', 'a', 'b'],\n",
    "                    'data1': range(7)})\n",
    "df2 = pd.DataFrame({'key': ['a', 'b', 'd'],\n",
    "                    'data2': range(3)})\n",
    "\n",
    "df3 = pd.DataFrame({'lkey': ['b', 'b', 'a', 'c', 'a', 'a', 'b'],\n",
    "                    'data1': range(7)})\n",
    "df4 = pd.DataFrame({'rkey': ['a', 'b', 'd'],\n",
    "                    'data2': range(3)})\n",
    "\n",
    "left = pd.DataFrame({'key1': ['foo', 'foo', 'bar'],\n",
    "                     'key2': ['one', 'two', 'one'],\n",
    "                     'lval': [1, 2, 3]})\n",
    "right = pd.DataFrame({'key1': ['foo', 'foo', 'bar', 'bar'],\n",
    "                      'key2': ['one', 'one', 'one', 'two'],\n",
    "                      'rval': [4, 5, 6, 7]})\n",
    "\n",
    "\n",
    "left1 = pd.DataFrame({'key': ['a', 'b', 'a', 'a', 'b', 'c'],\n",
    "                      'value': range(6)})\n",
    "right1 = pd.DataFrame({'group_val': [3.5, 7]}, index=['a', 'b'])\n",
    "\n",
    "A1 = df = pd.DataFrame({'A': [1, 5, 3, 77, 6],'B': [5, 4, 99, 5, 8]})\n",
    "\n",
    "B1 = pd.DataFrame({'key': ['A', 'B', 'C', 'A', 'B', 'C'],'col1': range(6),'col2': [5,0,3,3,7,9]},\n",
    "                  columns = ['key', 'col1', 'col2'])\n"
   ]
  },
  {
   "cell_type": "markdown",
   "id": "c53f2d91",
   "metadata": {
    "id": "c53f2d91"
   },
   "source": [
    "Q1\n",
    "- a. print df1\n",
    "- b. print df2\n",
    "- c. merge both the datasets of df1 and df2\n",
    "- d. merge both the datasets of df1 and df2 by inner\n",
    "- e. merge both the datasets of df1 and df2 by outer"
   ]
  },
  {
   "cell_type": "code",
   "execution_count": 3,
   "id": "08ba626c",
   "metadata": {
    "id": "08ba626c"
   },
   "outputs": [],
   "source": [
    "# a. \n"
   ]
  },
  {
   "cell_type": "code",
   "execution_count": 4,
   "id": "44a816c6",
   "metadata": {
    "id": "44a816c6"
   },
   "outputs": [],
   "source": [
    "# b.\n"
   ]
  },
  {
   "cell_type": "code",
   "execution_count": 5,
   "id": "668af3c5",
   "metadata": {
    "id": "668af3c5"
   },
   "outputs": [],
   "source": [
    "# c. \n",
    "\n"
   ]
  },
  {
   "cell_type": "code",
   "execution_count": 6,
   "id": "c2671bac",
   "metadata": {
    "id": "c2671bac"
   },
   "outputs": [],
   "source": [
    "# d.\n"
   ]
  },
  {
   "cell_type": "code",
   "execution_count": 7,
   "id": "9e1db3ad",
   "metadata": {
    "id": "9e1db3ad"
   },
   "outputs": [],
   "source": [
    "# e.\n"
   ]
  },
  {
   "cell_type": "markdown",
   "id": "a131832f",
   "metadata": {
    "id": "a131832f"
   },
   "source": [
    "Q2\n",
    "- a. merge both the datasets of df3 and df4\n",
    "- b. merge both the datasets of df3 and df4 based on df3 columns\n",
    "- c. merge both the datasets of df3 and df4 based on df4 columns"
   ]
  },
  {
   "cell_type": "code",
   "execution_count": 8,
   "id": "7242784b",
   "metadata": {
    "id": "7242784b"
   },
   "outputs": [],
   "source": [
    "# a.\n"
   ]
  },
  {
   "cell_type": "code",
   "execution_count": 9,
   "id": "ede204c7",
   "metadata": {
    "id": "ede204c7"
   },
   "outputs": [],
   "source": [
    "# b.\n"
   ]
  },
  {
   "cell_type": "code",
   "execution_count": 10,
   "id": "ce405556",
   "metadata": {
    "id": "ce405556"
   },
   "outputs": [],
   "source": [
    "# c.\n"
   ]
  },
  {
   "cell_type": "markdown",
   "id": "3941765a",
   "metadata": {
    "id": "3941765a"
   },
   "source": [
    "Q3\n",
    "- a. merge the dataset of left and right by outer\n",
    "- b. merge the dataset of left and right based on key1 column\n",
    "- c. Suffix the conflicting column name of result output of question 3b as _left and _right"
   ]
  },
  {
   "cell_type": "code",
   "execution_count": 11,
   "id": "96c1f87e",
   "metadata": {
    "id": "96c1f87e"
   },
   "outputs": [],
   "source": [
    "# a.\n"
   ]
  },
  {
   "cell_type": "code",
   "execution_count": 12,
   "id": "977fd57a",
   "metadata": {
    "id": "977fd57a"
   },
   "outputs": [],
   "source": [
    "# b.\n"
   ]
  },
  {
   "cell_type": "code",
   "execution_count": 13,
   "id": "cc3c04ec",
   "metadata": {
    "id": "cc3c04ec"
   },
   "outputs": [],
   "source": [
    "#c.\n"
   ]
  },
  {
   "cell_type": "markdown",
   "id": "dxFZ_DO1l7uj",
   "metadata": {
    "id": "dxFZ_DO1l7uj"
   },
   "source": [
    "Q4. \n",
    "- a. merge the dataset of left1 and right1\n",
    "- b. merge the dataset of left1 and right1 by outer"
   ]
  },
  {
   "cell_type": "code",
   "execution_count": 14,
   "id": "fb0186a5",
   "metadata": {
    "id": "fb0186a5"
   },
   "outputs": [],
   "source": []
  },
  {
   "cell_type": "markdown",
   "id": "4674d9ed",
   "metadata": {
    "id": "4674d9ed"
   },
   "source": [
    "Q5: Aggregation\n",
    "- a. aggregates mean within each column on A1\n",
    "- b. aggregates mean within each row on A1\n",
    "- c. load the 'planets' dataset form seaborn package\n",
    "- d. drop na on planets dataset, then describe that computes several common aggregates"
   ]
  },
  {
   "cell_type": "code",
   "execution_count": 15,
   "id": "f8c94abd",
   "metadata": {
    "colab": {
     "base_uri": "https://localhost:8080/"
    },
    "id": "f8c94abd",
    "outputId": "395e715d-fa4e-4351-b401-ab069444f63b"
   },
   "outputs": [
    {
     "name": "stdout",
     "output_type": "stream",
     "text": [
      "    A   B\n",
      "0   1   5\n",
      "1   5   4\n",
      "2   3  99\n",
      "3  77   5\n",
      "4   6   8\n"
     ]
    }
   ],
   "source": [
    "print(A1)"
   ]
  },
  {
   "cell_type": "code",
   "execution_count": 16,
   "id": "cac12f95",
   "metadata": {
    "id": "cac12f95"
   },
   "outputs": [],
   "source": [
    "# a.\n"
   ]
  },
  {
   "cell_type": "code",
   "execution_count": 17,
   "id": "f738d303",
   "metadata": {
    "id": "f738d303"
   },
   "outputs": [],
   "source": [
    "# b.\n"
   ]
  },
  {
   "cell_type": "code",
   "execution_count": 18,
   "id": "67f89d35",
   "metadata": {
    "id": "67f89d35"
   },
   "outputs": [],
   "source": [
    "# c. \n",
    "\n"
   ]
  },
  {
   "cell_type": "code",
   "execution_count": 19,
   "id": "4f558530",
   "metadata": {
    "id": "4f558530"
   },
   "outputs": [],
   "source": [
    "# d.\n"
   ]
  },
  {
   "cell_type": "markdown",
   "id": "32b7a619",
   "metadata": {
    "id": "32b7a619"
   },
   "source": [
    "Q6\n",
    "- a. set 'number' column as the index of planets\n",
    "- b. group by the sum of the new dataset by number 'key'\n",
    "- c. group by the sum of 'orbital_period' in the new dataset by 'year' column"
   ]
  },
  {
   "cell_type": "code",
   "execution_count": 20,
   "id": "85d9779f",
   "metadata": {
    "id": "85d9779f"
   },
   "outputs": [],
   "source": [
    "#a.\n",
    "\n"
   ]
  },
  {
   "cell_type": "code",
   "execution_count": 21,
   "id": "4d851cfb",
   "metadata": {
    "id": "4d851cfb"
   },
   "outputs": [],
   "source": [
    "# b.\n",
    "\n"
   ]
  },
  {
   "cell_type": "code",
   "execution_count": 22,
   "id": "99b6077b",
   "metadata": {
    "id": "99b6077b"
   },
   "outputs": [],
   "source": [
    "# c.\n",
    "\n"
   ]
  },
  {
   "cell_type": "markdown",
   "id": "76cef8d0",
   "metadata": {
    "id": "76cef8d0"
   },
   "source": [
    "Q6: \n",
    "- a. print B1\n",
    "- b. group by the sum of B1 by 'key'\n",
    "- c. set a function filter_func that keep all groups in which sum of col2 > 7\n",
    "- d. apply c on B1"
   ]
  },
  {
   "cell_type": "code",
   "execution_count": 23,
   "id": "b6c41946",
   "metadata": {
    "id": "b6c41946"
   },
   "outputs": [],
   "source": [
    "# a.\n"
   ]
  },
  {
   "cell_type": "code",
   "execution_count": 24,
   "id": "66ac1d07",
   "metadata": {
    "id": "66ac1d07"
   },
   "outputs": [],
   "source": [
    "# b.\n"
   ]
  },
  {
   "cell_type": "code",
   "execution_count": 25,
   "id": "30b98056",
   "metadata": {
    "id": "30b98056"
   },
   "outputs": [],
   "source": [
    "# c.\n"
   ]
  },
  {
   "cell_type": "code",
   "execution_count": 26,
   "id": "cfbfe380",
   "metadata": {
    "id": "cfbfe380"
   },
   "outputs": [],
   "source": [
    "# d.\n"
   ]
  },
  {
   "cell_type": "code",
   "execution_count": 26,
   "id": "92d9198a",
   "metadata": {
    "id": "92d9198a"
   },
   "outputs": [],
   "source": []
  }
 ],
 "metadata": {
  "colab": {
   "provenance": []
  },
  "kernelspec": {
   "display_name": "Python 3 (ipykernel)",
   "language": "python",
   "name": "python3"
  },
  "language_info": {
   "codemirror_mode": {
    "name": "ipython",
    "version": 3
   },
   "file_extension": ".py",
   "mimetype": "text/x-python",
   "name": "python",
   "nbconvert_exporter": "python",
   "pygments_lexer": "ipython3",
   "version": "3.9.12"
  },
  "toc": {
   "base_numbering": 1,
   "nav_menu": {},
   "number_sections": true,
   "sideBar": true,
   "skip_h1_title": false,
   "title_cell": "Table of Contents",
   "title_sidebar": "Contents",
   "toc_cell": false,
   "toc_position": {},
   "toc_section_display": true,
   "toc_window_display": false
  }
 },
 "nbformat": 4,
 "nbformat_minor": 5
}
