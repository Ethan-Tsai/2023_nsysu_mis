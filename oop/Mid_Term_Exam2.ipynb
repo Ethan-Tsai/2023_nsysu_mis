{
  "cells": [
    {
      "cell_type": "code",
      "execution_count": 1,
      "id": "3d860e5a",
      "metadata": {
        "id": "3d860e5a"
      },
      "outputs": [],
      "source": [
        "import pandas as pd\n",
        "import numpy as np\n",
        "import seaborn as sns"
      ]
    },
    {
      "cell_type": "markdown",
      "id": "969cf7cf",
      "metadata": {
        "id": "969cf7cf"
      },
      "source": [
        "# Question 1"
      ]
    },
    {
      "cell_type": "markdown",
      "id": "f73722a4",
      "metadata": {
        "id": "f73722a4"
      },
      "source": [
        "## load the data of WordsByCharacter\n",
        "- a. set the index by using column of 'Film', 'Chapter', 'Race', 'Character' \n",
        "- b. sort the index of Q1 a.\n",
        "- c. Access the character of the movie `The Fellowship Of The Ring` from its `first chapter`\n",
        "- d. how many words are spoken in the first chapter of the movie `The Fellowship Of The Ring`"
      ]
    },
    {
      "cell_type": "code",
      "execution_count": 2,
      "id": "cb5cf1d1",
      "metadata": {
        "id": "cb5cf1d1"
      },
      "outputs": [],
      "source": [
        "# load data\n"
      ]
    },
    {
      "cell_type": "code",
      "execution_count": 3,
      "id": "5f148d23",
      "metadata": {
        "id": "5f148d23"
      },
      "outputs": [],
      "source": [
        "# a. set the index by using column of 'Film', 'Chapter', 'Race', 'Character' \n"
      ]
    },
    {
      "cell_type": "code",
      "execution_count": 4,
      "id": "3e129dcb",
      "metadata": {
        "id": "3e129dcb"
      },
      "outputs": [],
      "source": [
        "# b. sort the index of Q1 a.\n"
      ]
    },
    {
      "cell_type": "code",
      "execution_count": 5,
      "id": "fe3f5996",
      "metadata": {
        "id": "fe3f5996"
      },
      "outputs": [],
      "source": [
        "# c. Access the Character of the movie 'The Fellowship Of The Ring' from its 'first chapter'\n"
      ]
    },
    {
      "cell_type": "code",
      "execution_count": 6,
      "id": "c8cc8ea4",
      "metadata": {
        "id": "c8cc8ea4"
      },
      "outputs": [],
      "source": [
        "# d. how many words are spoken in the first chapter of the movie 'The Fellowship Of The Ring'\n"
      ]
    },
    {
      "cell_type": "markdown",
      "id": "7b9e2ea6",
      "metadata": {
        "id": "7b9e2ea6"
      },
      "source": [
        "# Question 2"
      ]
    },
    {
      "cell_type": "markdown",
      "id": "24583d5a",
      "metadata": {
        "id": "24583d5a"
      },
      "source": [
        "## Use the `planets` dataset form seaborn package\n",
        "- a. describe the `planets` dataset by excluding object datatype columns\n",
        "- b. describe int datatype columns of a `planets` Dataset \n",
        "- c. drop na on `planets` dataset, then describe that computes several common aggregates"
      ]
    },
    {
      "cell_type": "code",
      "execution_count": 7,
      "id": "78f282db",
      "metadata": {
        "id": "78f282db"
      },
      "outputs": [],
      "source": [
        "# loading the 'planets' dataset form seaborn package\n"
      ]
    },
    {
      "cell_type": "code",
      "execution_count": 8,
      "id": "a68a6535",
      "metadata": {
        "id": "a68a6535"
      },
      "outputs": [],
      "source": [
        "# a. describe the ``planets dataset`` by excluding object datatype columns\n"
      ]
    },
    {
      "cell_type": "code",
      "execution_count": 9,
      "id": "23f972fd",
      "metadata": {
        "id": "23f972fd"
      },
      "outputs": [],
      "source": [
        "# b. describe int datatype columns of a ``planets Dataset`` \n"
      ]
    },
    {
      "cell_type": "code",
      "execution_count": 10,
      "id": "803c2bd0",
      "metadata": {
        "id": "803c2bd0"
      },
      "outputs": [],
      "source": [
        "# c. drop na on planets dataset, then describe that computes several common aggregates\n"
      ]
    },
    {
      "cell_type": "markdown",
      "id": "828bd4d2",
      "metadata": {
        "id": "828bd4d2"
      },
      "source": [
        "# Question 3"
      ]
    },
    {
      "cell_type": "markdown",
      "id": "40080bf6",
      "metadata": {
        "id": "40080bf6"
      },
      "source": [
        "## Use US states population and abbreviations dataset\n",
        "- a. merge the data using many-to-one approach for the data of `pop` and `abbrevs` \n",
        "- b. remove the duplicate column whose values are common\n",
        "- c. check if there are any missing values in the merged dataset of `pop and abbrevs`"
      ]
    },
    {
      "cell_type": "code",
      "execution_count": 11,
      "id": "b5544105",
      "metadata": {
        "id": "b5544105"
      },
      "outputs": [],
      "source": [
        "# reading the dataset\n"
      ]
    },
    {
      "cell_type": "code",
      "execution_count": 12,
      "id": "0ac2aa6d",
      "metadata": {
        "id": "0ac2aa6d"
      },
      "outputs": [],
      "source": [
        "# a. merge the data using many-to-one approach for the data of pop and abbrevs\n",
        "\n",
        "# Here the primary key is state/region (pop) and abbreviation (abbrevs)\n",
        "# Using how='outer' so that no data is thrown away due to label mismatch\n",
        "# The values in state/region and abbreviation are common however their column name are different\n"
      ]
    },
    {
      "cell_type": "code",
      "execution_count": 13,
      "id": "931e96a8",
      "metadata": {
        "id": "931e96a8"
      },
      "outputs": [],
      "source": [
        "# b. remove the duplicate column whose values are common\n",
        "# Dropping out the duplicate info\n"
      ]
    },
    {
      "cell_type": "code",
      "execution_count": 14,
      "id": "51db0888",
      "metadata": {
        "id": "51db0888"
      },
      "outputs": [],
      "source": [
        "# c. check if there are any missing values in the merged dataset of pop and abbrevs\n",
        "\n"
      ]
    },
    {
      "cell_type": "markdown",
      "id": "a6663614",
      "metadata": {
        "id": "a6663614"
      },
      "source": [
        "# Question 4"
      ]
    },
    {
      "cell_type": "markdown",
      "id": "b94ddc2f",
      "metadata": {
        "id": "b94ddc2f"
      },
      "source": [
        "## Use the dataset of world_population and answer below questions\n",
        "- a. how many continents do we have in the world?\n",
        "- b. what are the names of these continents?\n",
        "- c. how many countries are present in each continent?\n",
        "- d. what is the population (year 2022) of the world per continent?\n",
        "- e. what are the most five populous countries (year 2022) in the world?"
      ]
    },
    {
      "cell_type": "code",
      "execution_count": 15,
      "id": "4dc72268",
      "metadata": {
        "id": "4dc72268"
      },
      "outputs": [],
      "source": [
        "# reading the dataset\n"
      ]
    },
    {
      "cell_type": "code",
      "execution_count": 16,
      "id": "459cc105",
      "metadata": {
        "id": "459cc105"
      },
      "outputs": [],
      "source": [
        "# a. how many continents do we have in the world?\n"
      ]
    },
    {
      "cell_type": "code",
      "execution_count": 17,
      "id": "15111675",
      "metadata": {
        "id": "15111675"
      },
      "outputs": [],
      "source": [
        "# b. what are the names of these continents?\n"
      ]
    },
    {
      "cell_type": "code",
      "execution_count": 18,
      "id": "3857d80d",
      "metadata": {
        "id": "3857d80d"
      },
      "outputs": [],
      "source": [
        "# c. how many countries are present in each continent?\n"
      ]
    },
    {
      "cell_type": "code",
      "execution_count": 19,
      "id": "b585516e",
      "metadata": {
        "id": "b585516e"
      },
      "outputs": [],
      "source": [
        "# d. what is the population of the world per continent?\n"
      ]
    },
    {
      "cell_type": "code",
      "execution_count": 20,
      "id": "9f6ed96b",
      "metadata": {
        "id": "9f6ed96b"
      },
      "outputs": [],
      "source": [
        "# e. what are the most five populous countries in the world\n"
      ]
    },
    {
      "cell_type": "code",
      "execution_count": 20,
      "id": "8828cff4",
      "metadata": {
        "id": "8828cff4"
      },
      "outputs": [],
      "source": []
    }
  ],
  "metadata": {
    "kernelspec": {
      "display_name": "Python 3 (ipykernel)",
      "language": "python",
      "name": "python3"
    },
    "language_info": {
      "codemirror_mode": {
        "name": "ipython",
        "version": 3
      },
      "file_extension": ".py",
      "mimetype": "text/x-python",
      "name": "python",
      "nbconvert_exporter": "python",
      "pygments_lexer": "ipython3",
      "version": "3.8.8"
    },
    "toc": {
      "base_numbering": 1,
      "nav_menu": {},
      "number_sections": true,
      "sideBar": true,
      "skip_h1_title": false,
      "title_cell": "Table of Contents",
      "title_sidebar": "Contents",
      "toc_cell": false,
      "toc_position": {},
      "toc_section_display": true,
      "toc_window_display": true
    },
    "colab": {
      "provenance": []
    }
  },
  "nbformat": 4,
  "nbformat_minor": 5
}